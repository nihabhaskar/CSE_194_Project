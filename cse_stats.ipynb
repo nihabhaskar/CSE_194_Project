{
 "cells": [
  {
   "cell_type": "code",
   "execution_count": 3,
   "metadata": {},
   "outputs": [],
   "source": [
    "import pandas as pd\n",
    "import numpy as np\n",
    "import researchpy as rp\n",
    "import math\n",
    "import seaborn as sns\n",
    "import matplotlib.pyplot as plt"
   ]
  },
  {
   "cell_type": "markdown",
   "metadata": {},
   "source": [
    "### Organizing dataframe"
   ]
  },
  {
   "cell_type": "code",
   "execution_count": 4,
   "metadata": {},
   "outputs": [],
   "source": [
    "# Read in data for cse department\n",
    "df_cse_rec = pd.read_csv(\"jacobs_capes/cse_capes.csv\", usecols= ['Instructor','Rcmnd Instr'])\n",
    "\n",
    "# Change percent reccomend to decimal\n",
    "df_cse_rec['Rcmnd Instr'] = df_cse_rec['Rcmnd Instr'].str.rstrip('%').astype('float') / 100.0\n",
    "\n",
    "# Array with women professors\n",
    "women_profs = ['Heninger, Nadia A', 'Rosing, Tajana Simunic', 'Chaudhuri, Kamalika', 'Alvarado, Christine J.', 'Minnes Kemp, Mor Mia', 'Polikarpova, Nadezhda', 'Esmaeilzadeh, Hadi', 'Riek, Laurel D', 'Gymrek, Melissa Ann', 'Chaudhuri, Kamalika', 'Nakashole, Ndapandula', 'Zaitsev, Anna L', 'Altintas De Callaf, Ilkay', 'Zhang, Yiying', 'Zhao, Jishen', 'Zhou, Yuan-Yuan']"
   ]
  },
  {
   "cell_type": "code",
   "execution_count": 5,
   "metadata": {},
   "outputs": [],
   "source": [
    "# Drop null values\n",
    "df_cse_rec = df_cse_rec.dropna()\n",
    "\n",
    "# Rename columns for convenience\n",
    "df_cse_rec = df_cse_rec.rename(columns={\"Instructor\":\"prof\", \"Rcmnd Instr\":\"rec_percent\", \"Gender\": \"gender\"})"
   ]
  },
  {
   "cell_type": "code",
   "execution_count": 6,
   "metadata": {},
   "outputs": [
    {
     "data": {
      "text/html": [
       "<div>\n",
       "<style scoped>\n",
       "    .dataframe tbody tr th:only-of-type {\n",
       "        vertical-align: middle;\n",
       "    }\n",
       "\n",
       "    .dataframe tbody tr th {\n",
       "        vertical-align: top;\n",
       "    }\n",
       "\n",
       "    .dataframe thead th {\n",
       "        text-align: right;\n",
       "    }\n",
       "</style>\n",
       "<table border=\"1\" class=\"dataframe\">\n",
       "  <thead>\n",
       "    <tr style=\"text-align: right;\">\n",
       "      <th></th>\n",
       "      <th>prof</th>\n",
       "      <th>rec_percent</th>\n",
       "    </tr>\n",
       "  </thead>\n",
       "  <tbody>\n",
       "    <tr>\n",
       "      <th>0</th>\n",
       "      <td>Moshiri, Alexander Niema</td>\n",
       "      <td>0.983</td>\n",
       "    </tr>\n",
       "    <tr>\n",
       "      <th>1</th>\n",
       "      <td>Kane, Daniel Mertz</td>\n",
       "      <td>0.946</td>\n",
       "    </tr>\n",
       "    <tr>\n",
       "      <th>2</th>\n",
       "      <td>Jones, Miles E</td>\n",
       "      <td>0.961</td>\n",
       "    </tr>\n",
       "    <tr>\n",
       "      <th>3</th>\n",
       "      <td>Meyer, Kyle Phillip</td>\n",
       "      <td>0.530</td>\n",
       "    </tr>\n",
       "    <tr>\n",
       "      <th>4</th>\n",
       "      <td>Meyer, Kyle Phillip</td>\n",
       "      <td>0.630</td>\n",
       "    </tr>\n",
       "  </tbody>\n",
       "</table>\n",
       "</div>"
      ],
      "text/plain": [
       "                       prof  rec_percent\n",
       "0  Moshiri, Alexander Niema        0.983\n",
       "1        Kane, Daniel Mertz        0.946\n",
       "2            Jones, Miles E        0.961\n",
       "3       Meyer, Kyle Phillip        0.530\n",
       "4       Meyer, Kyle Phillip        0.630"
      ]
     },
     "execution_count": 6,
     "metadata": {},
     "output_type": "execute_result"
    }
   ],
   "source": [
    "df_cse_rec.head()"
   ]
  },
  {
   "cell_type": "code",
   "execution_count": 7,
   "metadata": {},
   "outputs": [
    {
     "data": {
      "text/html": [
       "<div>\n",
       "<style scoped>\n",
       "    .dataframe tbody tr th:only-of-type {\n",
       "        vertical-align: middle;\n",
       "    }\n",
       "\n",
       "    .dataframe tbody tr th {\n",
       "        vertical-align: top;\n",
       "    }\n",
       "\n",
       "    .dataframe thead th {\n",
       "        text-align: right;\n",
       "    }\n",
       "</style>\n",
       "<table border=\"1\" class=\"dataframe\">\n",
       "  <thead>\n",
       "    <tr style=\"text-align: right;\">\n",
       "      <th></th>\n",
       "      <th>prof</th>\n",
       "      <th>rec_percent</th>\n",
       "      <th>gender</th>\n",
       "    </tr>\n",
       "  </thead>\n",
       "  <tbody>\n",
       "    <tr>\n",
       "      <th>0</th>\n",
       "      <td>Aksanli, Baris</td>\n",
       "      <td>1.000000</td>\n",
       "      <td>M</td>\n",
       "    </tr>\n",
       "    <tr>\n",
       "      <th>1</th>\n",
       "      <td>Allos, Haytham Issa</td>\n",
       "      <td>0.815333</td>\n",
       "      <td>M</td>\n",
       "    </tr>\n",
       "    <tr>\n",
       "      <th>2</th>\n",
       "      <td>Altintas De Callaf, Ilkay</td>\n",
       "      <td>0.794484</td>\n",
       "      <td>W</td>\n",
       "    </tr>\n",
       "    <tr>\n",
       "      <th>3</th>\n",
       "      <td>Alvarado, Christine J.</td>\n",
       "      <td>0.975818</td>\n",
       "      <td>W</td>\n",
       "    </tr>\n",
       "    <tr>\n",
       "      <th>4</th>\n",
       "      <td>Anderson, James W.</td>\n",
       "      <td>0.600000</td>\n",
       "      <td>M</td>\n",
       "    </tr>\n",
       "    <tr>\n",
       "      <th>...</th>\n",
       "      <td>...</td>\n",
       "      <td>...</td>\n",
       "      <td>...</td>\n",
       "    </tr>\n",
       "    <tr>\n",
       "      <th>212</th>\n",
       "      <td>Zhang, Weifeng</td>\n",
       "      <td>0.577500</td>\n",
       "      <td>M</td>\n",
       "    </tr>\n",
       "    <tr>\n",
       "      <th>213</th>\n",
       "      <td>Zhang, Yiying</td>\n",
       "      <td>0.867000</td>\n",
       "      <td>W</td>\n",
       "    </tr>\n",
       "    <tr>\n",
       "      <th>214</th>\n",
       "      <td>Zhao, Jishen</td>\n",
       "      <td>0.832000</td>\n",
       "      <td>W</td>\n",
       "    </tr>\n",
       "    <tr>\n",
       "      <th>215</th>\n",
       "      <td>Zhou, Yuan-Yuan</td>\n",
       "      <td>0.805500</td>\n",
       "      <td>W</td>\n",
       "    </tr>\n",
       "    <tr>\n",
       "      <th>216</th>\n",
       "      <td>Zwicker, Matthias Beat</td>\n",
       "      <td>0.928500</td>\n",
       "      <td>M</td>\n",
       "    </tr>\n",
       "  </tbody>\n",
       "</table>\n",
       "<p>217 rows × 3 columns</p>\n",
       "</div>"
      ],
      "text/plain": [
       "                          prof  rec_percent gender\n",
       "0               Aksanli, Baris     1.000000      M\n",
       "1          Allos, Haytham Issa     0.815333      M\n",
       "2    Altintas De Callaf, Ilkay     0.794484      W\n",
       "3       Alvarado, Christine J.     0.975818      W\n",
       "4           Anderson, James W.     0.600000      M\n",
       "..                         ...          ...    ...\n",
       "212             Zhang, Weifeng     0.577500      M\n",
       "213              Zhang, Yiying     0.867000      W\n",
       "214               Zhao, Jishen     0.832000      W\n",
       "215            Zhou, Yuan-Yuan     0.805500      W\n",
       "216     Zwicker, Matthias Beat     0.928500      M\n",
       "\n",
       "[217 rows x 3 columns]"
      ]
     },
     "execution_count": 7,
     "metadata": {},
     "output_type": "execute_result"
    }
   ],
   "source": [
    "# Average out reccomend percent for all classes professor has taught\n",
    "df_cse_rec_avg = df_cse_rec.groupby('prof', as_index=False).mean()\n",
    "\n",
    "# Add column for gender for professor\n",
    "df_cse_rec_avg['gender'] = np.where(df_cse_rec_avg['prof'].isin(women_profs), \"W\", \"M\")\n",
    "\n",
    "df_cse_rec_avg"
   ]
  },
  {
   "cell_type": "markdown",
   "metadata": {},
   "source": [
    "### Descriptive Stats"
   ]
  },
  {
   "cell_type": "code",
   "execution_count": 8,
   "metadata": {},
   "outputs": [
    {
     "data": {
      "text/plain": [
       "M    202\n",
       "W     15\n",
       "Name: gender, dtype: int64"
      ]
     },
     "execution_count": 8,
     "metadata": {},
     "output_type": "execute_result"
    }
   ],
   "source": [
    "df_cse_rec_avg['gender'].value_counts()"
   ]
  },
  {
   "cell_type": "code",
   "execution_count": 9,
   "metadata": {},
   "outputs": [
    {
     "data": {
      "image/png": "[encoded data removed]",
      "text/plain": [
       "<Figure size 432x288 with 1 Axes>"
      ]
     },
     "metadata": {
      "needs_background": "light"
     },
     "output_type": "display_data"
    }
   ],
   "source": [
    "# Bar graphs with numbers of woman professors and men professors in CSE department\n",
    "ax_cse_count = df_cse_rec_avg['gender'].value_counts().plot.bar()\n",
    "plt.xlabel('Gender')\n",
    "plt.ylabel('# of Professors')\n",
    "ax_cse_count.set_title('Number of Computer Science Professors by Gender')\n",
    "f1 = plt.gcf()"
   ]
  },
  {
   "cell_type": "code",
   "execution_count": 10,
   "metadata": {},
   "outputs": [
    {
     "data": {
      "text/plain": [
       "Text(0, 0.5, 'Ratio Recommend Professor')"
      ]
     },
     "execution_count": 10,
     "metadata": {},
     "output_type": "execute_result"
    },
    {
     "data": {
      "image/png": "[encoded data removed]",
      "text/plain": [
       "<Figure size 432x288 with 1 Axes>"
      ]
     },
     "metadata": {
      "needs_background": "light"
     },
     "output_type": "display_data"
    }
   ],
   "source": [
    "# Box Plots to see range of reccomendations for professors base on gender\n",
    "ax_cse_rec_box = sns.boxplot(x=\"gender\", y=\"rec_percent\", data=df_cse_rec_avg)\n",
    "ax_cse_rec_box.set_title('Student Recommendation Rate for CSE Professors by Gender')\n",
    "plt.xlabel('Gender')\n",
    "plt.ylabel('Ratio Recommend Professor')"
   ]
  },
  {
   "cell_type": "markdown",
   "metadata": {},
   "source": [
    "### Z-test"
   ]
  },
  {
   "cell_type": "markdown",
   "metadata": {},
   "source": [
    "https://www.statisticshowto.com/probability-and-statistics/hypothesis-testing/z-test/"
   ]
  },
  {
   "cell_type": "markdown",
   "metadata": {},
   "source": [
    "##### Defining recommended: > 75"
   ]
  },
  {
   "cell_type": "code",
   "execution_count": 13,
   "metadata": {},
   "outputs": [
    {
     "data": {
      "text/plain": [
       "M    202\n",
       "W     15\n",
       "Name: gender, dtype: int64"
      ]
     },
     "execution_count": 13,
     "metadata": {},
     "output_type": "execute_result"
    }
   ],
   "source": [
    "#z-test\n",
    "df_cse_rec_avg['gender'].value_counts()"
   ]
  },
  {
   "cell_type": "code",
   "execution_count": 14,
   "metadata": {},
   "outputs": [
    {
     "name": "stdout",
     "output_type": "stream",
     "text": [
      "P1:  0.8670212765957447\n",
      "P2:  0.7863595302619693\n"
     ]
    }
   ],
   "source": [
    "num_women = 188\n",
    "num_men = 2214\n",
    "\n",
    "#num women recommended/total women\n",
    "p1 = 163/num_women\n",
    "p2 = 1741/num_men\n",
    "print(\"P1: \", p1)\n",
    "print(\"P2: \", p2)"
   ]
  },
  {
   "cell_type": "code",
   "execution_count": 15,
   "metadata": {},
   "outputs": [
    {
     "name": "stdout",
     "output_type": "stream",
     "text": [
      "P:  0.7926727726894255\n"
     ]
    }
   ],
   "source": [
    "#overall proportion\n",
    "p = (163+1741)/(188+2214)\n",
    "print(\"P: \", p)"
   ]
  },
  {
   "cell_type": "code",
   "execution_count": 16,
   "metadata": {},
   "outputs": [
    {
     "data": {
      "text/html": [
       "<div>\n",
       "<style scoped>\n",
       "    .dataframe tbody tr th:only-of-type {\n",
       "        vertical-align: middle;\n",
       "    }\n",
       "\n",
       "    .dataframe tbody tr th {\n",
       "        vertical-align: top;\n",
       "    }\n",
       "\n",
       "    .dataframe thead th {\n",
       "        text-align: right;\n",
       "    }\n",
       "</style>\n",
       "<table border=\"1\" class=\"dataframe\">\n",
       "  <thead>\n",
       "    <tr style=\"text-align: right;\">\n",
       "      <th></th>\n",
       "      <th>prof</th>\n",
       "      <th>rec_percent</th>\n",
       "      <th>gender</th>\n",
       "    </tr>\n",
       "  </thead>\n",
       "  <tbody>\n",
       "    <tr>\n",
       "      <th>2</th>\n",
       "      <td>Altintas De Callaf, Ilkay</td>\n",
       "      <td>0.794484</td>\n",
       "      <td>W</td>\n",
       "    </tr>\n",
       "    <tr>\n",
       "      <th>3</th>\n",
       "      <td>Alvarado, Christine J.</td>\n",
       "      <td>0.975818</td>\n",
       "      <td>W</td>\n",
       "    </tr>\n",
       "    <tr>\n",
       "      <th>30</th>\n",
       "      <td>Chaudhuri, Kamalika</td>\n",
       "      <td>0.857083</td>\n",
       "      <td>W</td>\n",
       "    </tr>\n",
       "    <tr>\n",
       "      <th>74</th>\n",
       "      <td>Gymrek, Melissa Ann</td>\n",
       "      <td>0.967333</td>\n",
       "      <td>W</td>\n",
       "    </tr>\n",
       "    <tr>\n",
       "      <th>76</th>\n",
       "      <td>Heninger, Nadia A</td>\n",
       "      <td>0.862500</td>\n",
       "      <td>W</td>\n",
       "    </tr>\n",
       "    <tr>\n",
       "      <th>131</th>\n",
       "      <td>Minnes Kemp, Mor Mia</td>\n",
       "      <td>0.963659</td>\n",
       "      <td>W</td>\n",
       "    </tr>\n",
       "    <tr>\n",
       "      <th>138</th>\n",
       "      <td>Nakashole, Ndapandula</td>\n",
       "      <td>0.827333</td>\n",
       "      <td>W</td>\n",
       "    </tr>\n",
       "    <tr>\n",
       "      <th>153</th>\n",
       "      <td>Polikarpova, Nadezhda</td>\n",
       "      <td>0.856000</td>\n",
       "      <td>W</td>\n",
       "    </tr>\n",
       "    <tr>\n",
       "      <th>163</th>\n",
       "      <td>Riek, Laurel D</td>\n",
       "      <td>0.904667</td>\n",
       "      <td>W</td>\n",
       "    </tr>\n",
       "    <tr>\n",
       "      <th>164</th>\n",
       "      <td>Rosing, Tajana Simunic</td>\n",
       "      <td>0.783318</td>\n",
       "      <td>W</td>\n",
       "    </tr>\n",
       "    <tr>\n",
       "      <th>211</th>\n",
       "      <td>Zaitsev, Anna L</td>\n",
       "      <td>0.808429</td>\n",
       "      <td>W</td>\n",
       "    </tr>\n",
       "    <tr>\n",
       "      <th>213</th>\n",
       "      <td>Zhang, Yiying</td>\n",
       "      <td>0.867000</td>\n",
       "      <td>W</td>\n",
       "    </tr>\n",
       "    <tr>\n",
       "      <th>214</th>\n",
       "      <td>Zhao, Jishen</td>\n",
       "      <td>0.832000</td>\n",
       "      <td>W</td>\n",
       "    </tr>\n",
       "    <tr>\n",
       "      <th>215</th>\n",
       "      <td>Zhou, Yuan-Yuan</td>\n",
       "      <td>0.805500</td>\n",
       "      <td>W</td>\n",
       "    </tr>\n",
       "  </tbody>\n",
       "</table>\n",
       "</div>"
      ],
      "text/plain": [
       "                          prof  rec_percent gender\n",
       "2    Altintas De Callaf, Ilkay     0.794484      W\n",
       "3       Alvarado, Christine J.     0.975818      W\n",
       "30         Chaudhuri, Kamalika     0.857083      W\n",
       "74         Gymrek, Melissa Ann     0.967333      W\n",
       "76           Heninger, Nadia A     0.862500      W\n",
       "131       Minnes Kemp, Mor Mia     0.963659      W\n",
       "138      Nakashole, Ndapandula     0.827333      W\n",
       "153      Polikarpova, Nadezhda     0.856000      W\n",
       "163             Riek, Laurel D     0.904667      W\n",
       "164     Rosing, Tajana Simunic     0.783318      W\n",
       "211            Zaitsev, Anna L     0.808429      W\n",
       "213              Zhang, Yiying     0.867000      W\n",
       "214               Zhao, Jishen     0.832000      W\n",
       "215            Zhou, Yuan-Yuan     0.805500      W"
      ]
     },
     "execution_count": 16,
     "metadata": {},
     "output_type": "execute_result"
    }
   ],
   "source": [
    "df_cse_rec_avg.loc[(df_cse_rec_avg['rec_percent'] > 0.75) & (df_cse_rec_avg['gender'] == \"W\")] "
   ]
  },
  {
   "cell_type": "code",
   "execution_count": 17,
   "metadata": {},
   "outputs": [
    {
     "data": {
      "text/plain": [
       "2.6192304518614566"
      ]
     },
     "execution_count": 17,
     "metadata": {},
     "output_type": "execute_result"
    }
   ],
   "source": [
    "#z-test formula\n",
    "z = ((p1-p2)-0)/math.sqrt((p*(1-p))*((1/num_women)+(1/num_men)))\n",
    "z"
   ]
  },
  {
   "cell_type": "code",
   "execution_count": 18,
   "metadata": {},
   "outputs": [],
   "source": [
    "# z-score associated with a 5% alpha level / 2 is 1.96.\n",
    "# 2.619 > 1.96, reject the null hypothesis (so proportions are not the same)"
   ]
  },
  {
   "cell_type": "markdown",
   "metadata": {},
   "source": [
    "### T-test"
   ]
  },
  {
   "cell_type": "markdown",
   "metadata": {},
   "source": [
    "https://www.statisticshowto.com/probability-and-statistics/t-test/ \n",
    "\n",
    "https://www.statisticshowto.com/probability-and-statistics/t-distribution/independent-samples-t-test/"
   ]
  },
  {
   "cell_type": "markdown",
   "metadata": {},
   "source": [
    "### *Hypothesis Testing*\n",
    "\n",
    "$H_o$: There is no difference between whether a man or woman professor is reccomended\n",
    "\n",
    "$H_a$: There is a difference between whether a man or woman proffesor is reccomended"
   ]
  },
  {
   "cell_type": "code",
   "execution_count": 20,
   "metadata": {},
   "outputs": [
    {
     "data": {
      "text/plain": [
       "(   Variable      N      Mean        SD        SE  95% Conf.  Interval\n",
       " 0     Woman   15.0  0.857008  0.069371  0.017912   0.818592  0.895425\n",
       " 1       Man  202.0  0.844769  0.144528  0.010169   0.824717  0.864820\n",
       " 2  combined  217.0  0.845615  0.140568  0.009542   0.826807  0.864423,\n",
       "             Independent t-test   results\n",
       " 0  Difference (Woman - Man) =     0.0122\n",
       " 1        Degrees of freedom =   215.0000\n",
       " 2                         t =     0.3247\n",
       " 3     Two side test p value =     0.7457\n",
       " 4    Difference < 0 p value =     0.6271\n",
       " 5    Difference > 0 p value =     0.3729\n",
       " 6                 Cohen's d =     0.0869\n",
       " 7                 Hedge's g =     0.0866\n",
       " 8             Glass's delta =     0.1764\n",
       " 9               Pearson's r =     0.0221)"
      ]
     },
     "execution_count": 20,
     "metadata": {},
     "output_type": "execute_result"
    }
   ],
   "source": [
    "rp.ttest(group1= df_cse_rec_avg['rec_percent'][df_cse_rec_avg['gender'] == \"W\"], group1_name= \"Woman\",\n",
    "         group2= df_cse_rec_avg['rec_percent'][df_cse_rec_avg['gender'] == \"M\"], group2_name= \"Man\")"
   ]
  }
 ],
 "metadata": {
  "kernelspec": {
   "display_name": "Python 3",
   "language": "python",
   "name": "python3"
  },
  "language_info": {
   "codemirror_mode": {
    "name": "ipython",
    "version": 3
   },
   "file_extension": ".py",
   "mimetype": "text/x-python",
   "name": "python",
   "nbconvert_exporter": "python",
   "pygments_lexer": "ipython3",
   "version": "3.7.6"
  }
 },
 "nbformat": 4,
 "nbformat_minor": 4
}
