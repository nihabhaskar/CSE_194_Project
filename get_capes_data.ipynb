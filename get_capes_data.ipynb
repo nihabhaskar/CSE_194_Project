{
 "cells": [
  {
   "cell_type": "markdown",
   "metadata": {},
   "source": [
    "## Using selenium and pandas"
   ]
  },
  {
   "cell_type": "code",
   "execution_count": 8,
   "metadata": {},
   "outputs": [
    {
     "name": "stdout",
     "output_type": "stream",
     "text": [
      "DONE\n"
     ]
    }
   ],
   "source": [
    "from selenium import webdriver\n",
    "from selenium.webdriver.common.keys import Keys\n",
    "import os, time\n",
    "import pandas as pd\n",
    "\n",
    "# os.environ[\"CHROMEDRIVER_PATH\"] = \"/chromedriver\"\n",
    "# os.environ[\"GOOGLE_CHROME_BIN\"] = \"/usr/bin/google-chrome\"\n",
    "# chrome_options = webdriver.ChromeOptions()\n",
    "# chrome_options.binary_location = os.environ.get(\"GOOGLE_CHROME_BIN\")\n",
    "# driver = webdriver.Chrome(executable_path=os.environ.get(\"CHROMEDRIVER_PATH\"), chrome_options=chrome_options)\n",
    "# dir_path = os.path.dirname(os.path.abspath(''))\n",
    "driver = webdriver.Chrome(executable_path='/home/nicole/Documents/Docs/UCSD/SP21/CSE 194/CSE_194_Project/chromedriver')\n",
    "driver.implicitly_wait(30)\n",
    "\n",
    "driver.get('https://cape.ucsd.edu/responses/Results.aspx')\n",
    "sso_id = driver.find_element_by_id('ssousername')\n",
    "sso_id.send_keys(\"nmartind\")\n",
    "pw = driver.find_element_by_id('ssopassword')\n",
    "pw.send_keys(\"\") #insert password\n",
    "\n",
    "login = driver.find_element_by_name('_eventId_proceed')\n",
    "login.send_keys(Keys.ENTER)\n",
    "time.sleep(15)\n",
    "\n",
    "#once logged in, select department\n",
    "dept = driver.find_element_by_id('ContentPlaceHolder1_ddlDepartments')\n",
    "for option in dept.find_elements_by_tag_name('option'):\n",
    "    if option.get_attribute(\"value\") == 'HUM ': #different department name here\n",
    "        option.click() \n",
    "        break\n",
    "\n",
    "driver.find_element_by_id('ContentPlaceHolder1_btnSubmit').click()\n",
    "driver.implicitly_wait(15)\n",
    "\n",
    "# get table\n",
    "df=pd.read_html(driver.find_element_by_id('ContentPlaceHolder1_gvCAPEs').get_attribute('outerHTML'))[0] \n",
    "\n",
    "#extract columns\n",
    "df2 = df[['Instructor','Course', 'Term', 'Enroll', 'Evals Made', 'Rcmnd Class', 'Rcmnd Instr', 'Study Hrs/wk', 'Avg Grade Expected', 'Avg Grade Received']] #fix\n",
    "\n",
    "#convert to csv\n",
    "df2.to_csv('hum_capes.csv', index=False)\n",
    "print(\"DONE\")"
   ]
  },
  {
   "cell_type": "code",
   "execution_count": null,
   "metadata": {},
   "outputs": [],
   "source": []
  }
 ],
 "metadata": {
  "kernelspec": {
   "display_name": "Python 3",
   "language": "python",
   "name": "python3"
  },
  "language_info": {
   "codemirror_mode": {
    "name": "ipython",
    "version": 3
   },
   "file_extension": ".py",
   "mimetype": "text/x-python",
   "name": "python",
   "nbconvert_exporter": "python",
   "pygments_lexer": "ipython3",
   "version": "3.7.6"
  }
 },
 "nbformat": 4,
 "nbformat_minor": 4
}
