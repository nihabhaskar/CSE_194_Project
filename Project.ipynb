{
 "cells": [
  {
   "cell_type": "markdown",
   "metadata": {},
   "source": [
    "# Table of Contents\n",
    "- [Overview](#overview)\n",
    "- [Names](#names)\n",
    "- [Research Question](#research_question)\n",
    "- [Background](#background)\n",
    "- [Hypothesis](#hypothesis)\n",
    "- [Datasets](#datasets)\n",
    "- [Data Cleaning](#data_cleaning)\n",
    "- [Data Analysis](#data_analysis)\n",
    "- [Conclusion](#conclusion)"
   ]
  },
  {
   "cell_type": "markdown",
   "metadata": {},
   "source": [
    "<a id='overview'></a>\n",
    "# Overview \n",
    "- High level overview of project - I am thinking 5 sentences max"
   ]
  },
  {
   "cell_type": "markdown",
   "metadata": {},
   "source": [
    "<a id='names'></a>\n",
    "# Names\n",
    "* Niharika Bhaskar\n",
    "* Nicole Martindale"
   ]
  },
  {
   "cell_type": "markdown",
   "metadata": {},
   "source": [
    "<a id='research_question'></a>\n",
    "# Research Question\n",
    "### <span style=\"color:DarkCyan\">To what extent does a professor being a women and a profesor being a man change how students reccomend them and how students percieve the grade they expect to recieve?</span>"
   ]
  },
  {
   "cell_type": "markdown",
   "metadata": {},
   "source": [
    "<a id='background'></a>\n",
    "# Background\n",
    "* Some questions to answer:\n",
    "* Why is it of interest to us\n",
    "* What background information led us to our hypothesis?\n",
    "* Why is this important?\n",
    "* Has there been research done on this topic?"
   ]
  },
  {
   "cell_type": "markdown",
   "metadata": {},
   "source": [
    "<a id='hypothesis'></a>\n",
    "# Hypothesis\n",
    "* 4-5 sentences w/ our hypothesis and why we came to this reasoning"
   ]
  },
  {
   "cell_type": "markdown",
   "metadata": {},
   "source": [
    "<a id='datasets'></a>\n",
    "# Dataset(s)\n",
    "* Describe the datasets we are using \n",
    "* Name:\n",
    "* Descroption:\n",
    "* Source:\n",
    "* Observations ( like variables and description of the individual data pieces)"
   ]
  },
  {
   "cell_type": "markdown",
   "metadata": {},
   "source": [
    "#### Using selenium and pandas"
   ]
  },
  {
   "cell_type": "markdown",
   "metadata": {},
   "source": [
    "##### https://stackoverflow.com/questions/53398785/pandas-read-html-valueerror-no-tables-found"
   ]
  },
  {
   "cell_type": "code",
   "execution_count": 22,
   "metadata": {},
   "outputs": [
    {
     "name": "stdout",
     "output_type": "stream",
     "text": [
      "DONE\n"
     ]
    }
   ],
   "source": [
    "from selenium import webdriver\n",
    "from selenium.webdriver.common.keys import Keys\n",
    "import os, time\n",
    "import pandas as pd\n",
    "\n",
    "# os.environ[\"CHROMEDRIVER_PATH\"] = \"/chromedriver\"\n",
    "# os.environ[\"GOOGLE_CHROME_BIN\"] = \"/usr/bin/google-chrome\"\n",
    "# chrome_options = webdriver.ChromeOptions()\n",
    "# chrome_options.binary_location = os.environ.get(\"GOOGLE_CHROME_BIN\")\n",
    "# driver = webdriver.Chrome(executable_path=os.environ.get(\"CHROMEDRIVER_PATH\"), chrome_options=chrome_options)\n",
    "# dir_path = os.path.dirname(os.path.abspath(''))\n",
    "driver = webdriver.Chrome(executable_path='/home/nicole/Documents/Docs/UCSD/SP21/CSE 194/CSE_194_Project/chromedriver')\n",
    "driver.implicitly_wait(30)\n",
    "\n",
    "driver.get('https://cape.ucsd.edu/responses/Results.aspx')\n",
    "sso_id = driver.find_element_by_id('ssousername')\n",
    "sso_id.send_keys(\"nmartind\")\n",
    "pw = driver.find_element_by_id('ssopassword')\n",
    "pw.send_keys(\"\") #insert password\n",
    "\n",
    "login = driver.find_element_by_name('_eventId_proceed')\n",
    "login.send_keys(Keys.ENTER)\n",
    "time.sleep(15)\n",
    "\n",
    "#once logged in, select department\n",
    "dept = driver.find_element_by_name('ctl00$ContentPlaceHolder1$ddlDepartments')\n",
    "for option in dept.find_elements_by_tag_name('option'):\n",
    "    if option.get_attribute(\"value\") == 'SOE':\n",
    "        option.click() # select() in earlier versions of webdriver\n",
    "        break\n",
    "\n",
    "driver.find_element_by_id('ContentPlaceHolder1_btnSubmit').click()\n",
    "driver.implicitly_wait(10)\n",
    "\n",
    "# get table\n",
    "df=pd.read_html(driver.find_element_by_id('ContentPlaceHolder1_gvCAPEs').get_attribute('outerHTML'))[0] \n",
    "\n",
    "#extract columns\n",
    "df2 = df[['Instructor','Course', 'Term', 'Enroll', 'Evals Made', 'Rcmnd Class', 'Rcmnd Instr', 'Study Hrs/wk', 'Avg Grade Expected', 'Avg Grade Received']] #fix\n",
    "\n",
    "#convert to csv\n",
    "df2.to_csv('soe_capes.csv', index=False)\n",
    "print(\"DONE\")"
   ]
  },
  {
   "cell_type": "markdown",
   "metadata": {},
   "source": [
    "<a id='data_cleaning'></a>\n",
    "# Data Cleaning\n",
    "* Code for cleaning the data vibes"
   ]
  },
  {
   "cell_type": "markdown",
   "metadata": {},
   "source": [
    "<a id='data_analysis'></a>\n",
    "# Data Analysis\n",
    "* stats test of some sort and you know results from that tables and graphs and all that good stuff"
   ]
  },
  {
   "cell_type": "markdown",
   "metadata": {},
   "source": [
    "<a id='conclusion'></a>\n",
    "# Conclusion"
   ]
  },
  {
   "cell_type": "code",
   "execution_count": null,
   "metadata": {},
   "outputs": [],
   "source": []
  }
 ],
 "metadata": {
  "kernelspec": {
   "display_name": "Python 3",
   "language": "python",
   "name": "python3"
  },
  "language_info": {
   "codemirror_mode": {
    "name": "ipython",
    "version": 3
   },
   "file_extension": ".py",
   "mimetype": "text/x-python",
   "name": "python",
   "nbconvert_exporter": "python",
   "pygments_lexer": "ipython3",
   "version": "3.7.6"
  }
 },
 "nbformat": 4,
 "nbformat_minor": 4
}
