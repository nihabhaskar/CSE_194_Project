{
 "cells": [
  {
   "cell_type": "markdown",
   "metadata": {},
   "source": [
    "# Table of Contents\n",
    "- [Overview](#overview)\n",
    "- [Names](#names)\n",
    "- [Research Question](#research_question)\n",
    "- [Background](#background)\n",
    "- [Hypothesis](#hypothesis)\n",
    "- [Datasets](#datasets)\n",
    "- [Data Cleaning](#data_cleaning)\n",
    "- [Data Analysis](#data_analysis)\n",
    "- [Conclusion](#conclusion)"
   ]
  },
  {
   "cell_type": "markdown",
   "metadata": {},
   "source": [
    "<a id='overview'></a>\n",
    "# Overview \n",
    "In the book Invisible Women, the author Caroline Criado Perez discusses that “decades of research [...] show that teaching evaluation forms are worse than useless at actually evaluating teaching and are in face ‘biased against female instructors by an amount that is large and statistically significant”’ Based on this claim we plan to research student evaluations on CAPEs at UC San Diego and see if we are able to identify any biases in student expectations of women vs men professors. We are focusing the research on the variables: student average grade expected, student average grade received,  and whether the student would recommend the professor. We conducted our analysis using [insert stats tests here] in order to determine if there is a correlation between student average grade expected and received and whether the student would recommend the professor for men and women. Upon analysis,..."
   ]
  },
  {
   "cell_type": "markdown",
   "metadata": {},
   "source": [
    "<a id='names'></a>\n",
    "# Names\n",
    "* Niharika Bhaskar\n",
    "* Nicole Martindale"
   ]
  },
  {
   "cell_type": "markdown",
   "metadata": {},
   "source": [
    "<a id='research_question'></a>\n",
    "# Research Question\n",
    "### <span style=\"color:DarkCyan\">To what extent does a professor being a women and a profesor being a man change how students reccomend them and how students percieve the grade they expect to recieve?</span>"
   ]
  },
  {
   "cell_type": "markdown",
   "metadata": {},
   "source": [
    "<a id='background'></a>\n",
    "# Background\n",
    "\n",
    "#### Why is it of interest to us\n",
    "\n",
    "As women computer scientists who want to pursue higher education (Master's degree, PhD, etc), this is of interest to us because there are very few women who are computer science professors and learning about the explicit and implicit bias they face is important as we continue in academia. We have personally seen the benefits of women role models especially in roles like professors and teachers and we hope to bring light to these inequities. \n",
    "\n",
    "Imposter Syndrome is something many people face, especially women in STEM. Negative evaluations can often contribute to beliefs that can cause harm and perpetuate self-doubt. We want to bring awareness of these biases so that the ratings are not seen as the most important way of determining the efficacy of a class and especially, the professor. \n",
    "\n",
    "\n",
    "#### What background information led you to your hypothesis.\n",
    "\n",
    "In the book Invisible Women, the author Caroline Criado Perez discusses how student expectations of women professors can create hurdles that may not be experienced if that individual was a man. Perez explains that “students are also more likely to request extensions, grade boosts, and rule-bending of female academics” (Perez 97). This expectation that women professors will be more lenient may translate into what grade students expect in the class. If this expectation is not met students may be more upset. Furthermore, in the book Perez cites that “an analysis of 14 million reviews on the website RateMyProfessors.com found that female professors are more likely to be ‘mean, ‘harsh, ‘unfair’, ‘strict’, and ‘annoying’”(Perez 97). There seems to be evidence that students do not evaluate men professors and women professors at the same standard. Consequently, there is statistically significant evidence that teaching evaluations are biased against women. In addition, there is evidence that there are significantly fewer women computer science professors and STEM departments as a whole.\n",
    "\n",
    "#### Why is this important?\n",
    "While the project may not be able to fix any explicit biases that may be present in students, identifying and being aware of any implicit biases for individuals may be beneficial. This research project may be able to suggest that there may be biases against women professors across different departments, including various STEM departments and ultimately the Computer Science department. This will hopefully motivate students to be more aware of their own actions when it comes to evaluating professors in the future. \n",
    "\n",
    "Ultimately, I think the project will also suggest that students and anyone referring to CAPES and other evaluation tools should not jump to conclusions about the results of those evaluations, as there may be hidden biases against women baked into the results of those evaluations as a result of explicit and implicit biases. Ultimately, it is essential to evaluate possible inequities in evaluations to guarantee an equitable work environment for women in academia."
   ]
  },
  {
   "cell_type": "markdown",
   "metadata": {},
   "source": [
    "<a id='hypothesis'></a>\n",
    "# Hypothesis\n",
    "Based on the various studies cited in the book Invisible Women and extrapolating the results of those studies on the categories presented on CAPES we hypothesize that women professors on average will have higher grades expected from professors, but will be recommended at lower rates compared to men professors."
   ]
  },
  {
   "cell_type": "markdown",
   "metadata": {},
   "source": [
    "<a id='datasets'></a>\n",
    "# Dataset(s)\n",
    "1. **Jacobs School of Engineering CAPE Evaluations**\n",
    "    - **Name**:  jacobs_eng_capes.csv\n",
    "    - [Link to Data](https://ourworldindata.org/grapher/cardiovascular-disease-death-rates)\n",
    "    - **Description**: This dataset contains data on the ratings of women and men professors from the various departments within the Jacobs School of Engineering from the years 2007 to 2021\n",
    "    - **Source**: Course and Professor Evaluation (CAPE) \n",
    "    - **Observations**:\n",
    "\n",
    "| Variable           \t                        | Description \t|\n",
    "|:--------------------\t                        |:-------------\t|\n",
    "| Rcmnd Instr           \t                        | % of students who reccomend instructir       \t|\n",
    "| Avg Grade Expected              \t                        | average grade student expected       \t|\n",
    "| Avg Grade Received               \t                        | average grade student recieved            \t|\n",
    "\n",
    "2. **Biological Sciences CAPE Evaluations**\n",
    "    - **Name**: bio_sci_capes.csv\n",
    "    - [Link to Data](https://ourworldindata.org/grapher/cardiovascular-disease-death-rates)\n",
    "    - **Description**: This dataset contains data on the ratings of women and men professors from the biological sciences department from the years 2007 to 2021\n",
    "    - **Source**: Course and Professor Evaluation (CAPE) \n",
    "    - **Observations**:\n",
    "\n",
    "| Variable           \t                        | Description \t|\n",
    "|:--------------------\t                        |:-------------\t|\n",
    "| Rcmnd Instr           \t                        | % of students who reccomend instructir       \t|\n",
    "| Avg Grade Expected              \t                        | average grade student expected       \t|\n",
    "| Avg Grade Received               \t                        | average grade student recieved            \t|\n",
    "\n",
    "2. **Humanities CAPE Evaluations**\n",
    "    - **Name**: humanities_capes.csv\n",
    "    - [Link to Data](https://ourworldindata.org/grapher/cardiovascular-disease-death-rates)\n",
    "    - **Description**: This dataset contains data on the ratings of women and men professors from the humanities department from the years 2007 to 2021\n",
    "    - **Source**: Course and Professor Evaluation (CAPE) \n",
    "    - **Observations**:\n",
    "\n",
    "| Variable           \t                        | Description \t|\n",
    "|:--------------------\t                        |:-------------\t|\n",
    "| Rcmnd Instr           \t                        | % of students who reccomend instructir       \t|\n",
    "| Avg Grade Expected              \t                        | average grade student expected       \t|\n",
    "| Avg Grade Received               \t                        | average grade student recieved            \t|\n"
   ]
  },
  {
   "cell_type": "markdown",
   "metadata": {},
   "source": [
    "<a id='data_cleaning'></a>\n",
    "# Data Cleaning\n",
    "* Code for cleaning the data vibes"
   ]
  },
  {
   "cell_type": "markdown",
   "metadata": {},
   "source": [
    "<a id='data_analysis'></a>\n",
    "# Data Analysis\n",
    "* stats test of some sort and you know results from that tables and graphs and all that good stuff"
   ]
  },
  {
   "cell_type": "markdown",
   "metadata": {},
   "source": [
    "<a id='conclusion'></a>\n",
    "# Conclusion"
   ]
  },
  {
   "cell_type": "code",
   "execution_count": null,
   "metadata": {},
   "outputs": [],
   "source": []
  }
 ],
 "metadata": {
  "kernelspec": {
   "display_name": "Python 3 (clean)",
   "language": "python",
   "name": "python3_clean"
  },
  "language_info": {
   "codemirror_mode": {
    "name": "ipython",
    "version": 3
   },
   "file_extension": ".py",
   "mimetype": "text/x-python",
   "name": "python",
   "nbconvert_exporter": "python",
   "pygments_lexer": "ipython3",
   "version": "3.7.6"
  }
 },
 "nbformat": 4,
 "nbformat_minor": 4
}
