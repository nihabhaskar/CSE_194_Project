{
 "cells": [
  {
   "cell_type": "markdown",
   "metadata": {},
   "source": [
    "# Table of Contents\n",
    "- [Overview](#overview)\n",
    "- [Names](#names)\n",
    "- [Research Question](#research_question)\n",
    "- [Background](#background)\n",
    "- [Hypothesis](#hypothesis)\n",
    "- [Datasets](#datasets)\n",
    "- [Data Cleaning](#data_cleaning)\n",
    "- [Data Analysis](#data_analysis)\n",
    "- [Conclusion](#conclusion)"
   ]
  },
  {
   "cell_type": "markdown",
   "metadata": {},
   "source": [
    "<a id='overview'></a>\n",
    "# Overview \n",
    "- High level overview of project - I am thinking 5 sentences max"
   ]
  },
  {
   "cell_type": "markdown",
   "metadata": {},
   "source": [
    "<a id='names'></a>\n",
    "# Names\n",
    "* Niharika Bhaskar\n",
    "* Nicole Martindale"
   ]
  },
  {
   "cell_type": "markdown",
   "metadata": {},
   "source": [
    "<a id='research_question'></a>\n",
    "# Research Question\n",
    "### <span style=\"color:DarkCyan\">To what extent does a professor being a women and a profesor being a man change how students reccomend them and how students percieve the grade they expect to recieve?</span>"
   ]
  },
  {
   "cell_type": "markdown",
   "metadata": {},
   "source": [
    "<a id='background'></a>\n",
    "# Background\n",
    "* Some questions to answer:\n",
    "* Why is it of interest to us\n",
    "* What background information led us to our hypothesis?\n",
    "* Why is this important?\n",
    "* Has there been research done on this topic?"
   ]
  },
  {
   "cell_type": "markdown",
   "metadata": {},
   "source": [
    "<a id='hypothesis'></a>\n",
    "# Hypothesis\n",
    "* 4-5 sentences w/ our hypothesis and why we came to this reasoning"
   ]
  },
  {
   "cell_type": "markdown",
   "metadata": {},
   "source": [
    "<a id='datasets'></a>\n",
    "# Dataset(s)\n",
    "* Describe the datasets we are using \n",
    "* Name:\n",
    "* Descroption:\n",
    "* Source:\n",
    "* Observations ( like variables and description of the individual data pieces)"
   ]
  },
  {
   "cell_type": "markdown",
   "metadata": {},
   "source": [
    "<a id='data_cleaning'></a>\n",
    "# Data Cleaning\n",
    "* Code for cleaning the data vibes"
   ]
  },
  {
   "cell_type": "markdown",
   "metadata": {},
   "source": [
    "<a id='data_analysis'></a>\n",
    "# Data Analysis\n",
    "* stats test of some sort and you know results from that tables and graphs and all that good stuff"
   ]
  },
  {
   "cell_type": "markdown",
   "metadata": {},
   "source": [
    "<a id='conclusion'></a>\n",
    "# Conclusion"
   ]
  },
  {
   "cell_type": "code",
   "execution_count": null,
   "metadata": {},
   "outputs": [],
   "source": []
  }
 ],
 "metadata": {
  "kernelspec": {
   "display_name": "Python 3 (clean)",
   "language": "python",
   "name": "python3_clean"
  },
  "language_info": {
   "codemirror_mode": {
    "name": "ipython",
    "version": 3
   },
   "file_extension": ".py",
   "mimetype": "text/x-python",
   "name": "python",
   "nbconvert_exporter": "python",
   "pygments_lexer": "ipython3",
   "version": "3.7.6"
  }
 },
 "nbformat": 4,
 "nbformat_minor": 4
}
