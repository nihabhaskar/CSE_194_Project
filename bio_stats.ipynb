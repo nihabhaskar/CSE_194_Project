{
 "cells": [
  {
   "cell_type": "code",
   "execution_count": 4,
   "metadata": {},
   "outputs": [],
   "source": [
    "import pandas as pd\n",
    "import numpy as np\n",
    "import researchpy as rp\n",
    "import math\n",
    "import seaborn as sns\n",
    "import matplotlib.pyplot as plt"
   ]
  },
  {
   "cell_type": "markdown",
   "metadata": {},
   "source": [
    "### Organizing dataframe"
   ]
  },
  {
   "cell_type": "code",
   "execution_count": 5,
   "metadata": {},
   "outputs": [],
   "source": [
    "# Read in data for biological sciences department\n",
    "df_bio_rec = pd.read_csv(\"capes/bio_sci_capes.csv\", usecols= ['Instructor','Rcmnd Instr'])\n",
    "\n",
    "# Change percent reccomend to decimal\n",
    "df_bio_rec['Rcmnd Instr'] = df_bio_rec['Rcmnd Instr'].str.rstrip('%').astype('float') / 100.0\n",
    "\n",
    "# Array with women professors\n",
    "women_profs = ['Ackerman, Susan', 'Dutton, Rachel Janelle', 'Bloodgood, Brenda Laurie', 'Butler, Madeline', 'Chilukuri, Lakshmi N', 'Cleland, Elsa Eleanor', 'Cook-Andersen, Heidi Leigh', 'Cooper, Kimberly Lynn', 'Dutton, Rachel Janelle', 'Farley, Emma Kristen', 'French, Kathleen Ann', 'Glasgow, Stacey Marie', 'Golden, Susan S.', 'Goldrath, Ananda', 'Halpain, Shelley', 'Huffaker, Alisa', 'Jin, Yishi', 'Jones, Katherine A.', 'Juavinett, Ashley Lauren', 'Karlseder, Jan', 'Kiger, Amy', 'Kurle, Carolyn M.', 'Lauberth, Shannon Marie', 'Leutgeb, Jill K.', 'Markow, Therese A.', 'McDonnell, Lisa Marie', 'Meaders, Clara Leigh', 'Mel, Stephanie', 'Niwa, Maho', 'Oegema, Karen', 'Owens, Melinda Tsao-Ying', 'Pasquinelli, Amy', 'Pekkurnaz Banghart, Gulcin', 'Petrie, Katherine Lynn','Pillus, Lorraine', 'Pogliano, Kit J.', 'Reinagel, Pam', 'Rennison, Diana', 'Smith, Laurie', 'Stockwell, Sarah R', 'Su, Chih-Ying', 'Tour, Ella', 'Troemel, Emily Ruth', 'Villa Rodriguez, Elizabeth', 'Wienhausen, Gabriele', 'Yelon, Deborah', 'Zhang, Dong-Er', 'Zuniga, Elina I']"
   ]
  },
  {
   "cell_type": "code",
   "execution_count": 6,
   "metadata": {},
   "outputs": [],
   "source": [
    "# Drop null values\n",
    "df_bio_rec = df_bio_rec.dropna()\n",
    "\n",
    "# Rename columns for convenience\n",
    "df_bio_rec = df_bio_rec.rename(columns={\"Instructor\":\"prof\", \"Rcmnd Instr\":\"rec_percent\", \"Gender\": \"gender\"})"
   ]
  },
  {
   "cell_type": "code",
   "execution_count": 7,
   "metadata": {},
   "outputs": [
    {
     "data": {
      "text/html": [
       "<div>\n",
       "<style scoped>\n",
       "    .dataframe tbody tr th:only-of-type {\n",
       "        vertical-align: middle;\n",
       "    }\n",
       "\n",
       "    .dataframe tbody tr th {\n",
       "        vertical-align: top;\n",
       "    }\n",
       "\n",
       "    .dataframe thead th {\n",
       "        text-align: right;\n",
       "    }\n",
       "</style>\n",
       "<table border=\"1\" class=\"dataframe\">\n",
       "  <thead>\n",
       "    <tr style=\"text-align: right;\">\n",
       "      <th></th>\n",
       "      <th>prof</th>\n",
       "      <th>rec_percent</th>\n",
       "    </tr>\n",
       "  </thead>\n",
       "  <tbody>\n",
       "    <tr>\n",
       "      <th>0</th>\n",
       "      <td>Hui, Enfu</td>\n",
       "      <td>0.965</td>\n",
       "    </tr>\n",
       "    <tr>\n",
       "      <th>1</th>\n",
       "      <td>Zhao, Yunde</td>\n",
       "      <td>0.786</td>\n",
       "    </tr>\n",
       "    <tr>\n",
       "      <th>2</th>\n",
       "      <td>Feng, Gen-Sheng</td>\n",
       "      <td>0.654</td>\n",
       "    </tr>\n",
       "    <tr>\n",
       "      <th>3</th>\n",
       "      <td>Coleman, Aaron B.</td>\n",
       "      <td>1.000</td>\n",
       "    </tr>\n",
       "    <tr>\n",
       "      <th>4</th>\n",
       "      <td>Soowal, Lara</td>\n",
       "      <td>0.875</td>\n",
       "    </tr>\n",
       "  </tbody>\n",
       "</table>\n",
       "</div>"
      ],
      "text/plain": [
       "                prof  rec_percent\n",
       "0          Hui, Enfu        0.965\n",
       "1        Zhao, Yunde        0.786\n",
       "2    Feng, Gen-Sheng        0.654\n",
       "3  Coleman, Aaron B.        1.000\n",
       "4       Soowal, Lara        0.875"
      ]
     },
     "execution_count": 7,
     "metadata": {},
     "output_type": "execute_result"
    }
   ],
   "source": [
    "df_bio_rec.head()"
   ]
  },
  {
   "cell_type": "code",
   "execution_count": 8,
   "metadata": {},
   "outputs": [
    {
     "data": {
      "text/html": [
       "<div>\n",
       "<style scoped>\n",
       "    .dataframe tbody tr th:only-of-type {\n",
       "        vertical-align: middle;\n",
       "    }\n",
       "\n",
       "    .dataframe tbody tr th {\n",
       "        vertical-align: top;\n",
       "    }\n",
       "\n",
       "    .dataframe thead th {\n",
       "        text-align: right;\n",
       "    }\n",
       "</style>\n",
       "<table border=\"1\" class=\"dataframe\">\n",
       "  <thead>\n",
       "    <tr style=\"text-align: right;\">\n",
       "      <th></th>\n",
       "      <th>prof</th>\n",
       "      <th>rec_percent</th>\n",
       "      <th>gender</th>\n",
       "    </tr>\n",
       "  </thead>\n",
       "  <tbody>\n",
       "    <tr>\n",
       "      <th>0</th>\n",
       "      <td>Ackerman, Susan</td>\n",
       "      <td>0.849500</td>\n",
       "      <td>W</td>\n",
       "    </tr>\n",
       "    <tr>\n",
       "      <th>1</th>\n",
       "      <td>Adomako, Marie Antonia</td>\n",
       "      <td>0.943000</td>\n",
       "      <td>M</td>\n",
       "    </tr>\n",
       "    <tr>\n",
       "      <th>2</th>\n",
       "      <td>Akbari, Omar Sultan</td>\n",
       "      <td>0.937200</td>\n",
       "      <td>M</td>\n",
       "    </tr>\n",
       "    <tr>\n",
       "      <th>3</th>\n",
       "      <td>Alfonso, Stephanie Isabel</td>\n",
       "      <td>0.794333</td>\n",
       "      <td>M</td>\n",
       "    </tr>\n",
       "    <tr>\n",
       "      <th>4</th>\n",
       "      <td>Allen, Eric</td>\n",
       "      <td>0.987357</td>\n",
       "      <td>M</td>\n",
       "    </tr>\n",
       "    <tr>\n",
       "      <th>...</th>\n",
       "      <td>...</td>\n",
       "      <td>...</td>\n",
       "      <td>...</td>\n",
       "    </tr>\n",
       "    <tr>\n",
       "      <th>307</th>\n",
       "      <td>Zhang, Kun</td>\n",
       "      <td>1.000000</td>\n",
       "      <td>M</td>\n",
       "    </tr>\n",
       "    <tr>\n",
       "      <th>308</th>\n",
       "      <td>Zhao, Yunde</td>\n",
       "      <td>0.799609</td>\n",
       "      <td>M</td>\n",
       "    </tr>\n",
       "    <tr>\n",
       "      <th>309</th>\n",
       "      <td>Zou, Yimin</td>\n",
       "      <td>0.864158</td>\n",
       "      <td>M</td>\n",
       "    </tr>\n",
       "    <tr>\n",
       "      <th>310</th>\n",
       "      <td>Zuniga, Elina I</td>\n",
       "      <td>0.861467</td>\n",
       "      <td>W</td>\n",
       "    </tr>\n",
       "    <tr>\n",
       "      <th>311</th>\n",
       "      <td>Zupanc, Gunther Karl-Heinz</td>\n",
       "      <td>0.926000</td>\n",
       "      <td>M</td>\n",
       "    </tr>\n",
       "  </tbody>\n",
       "</table>\n",
       "<p>312 rows × 3 columns</p>\n",
       "</div>"
      ],
      "text/plain": [
       "                           prof  rec_percent gender\n",
       "0               Ackerman, Susan     0.849500      W\n",
       "1        Adomako, Marie Antonia     0.943000      M\n",
       "2           Akbari, Omar Sultan     0.937200      M\n",
       "3     Alfonso, Stephanie Isabel     0.794333      M\n",
       "4                   Allen, Eric     0.987357      M\n",
       "..                          ...          ...    ...\n",
       "307                  Zhang, Kun     1.000000      M\n",
       "308                 Zhao, Yunde     0.799609      M\n",
       "309                  Zou, Yimin     0.864158      M\n",
       "310             Zuniga, Elina I     0.861467      W\n",
       "311  Zupanc, Gunther Karl-Heinz     0.926000      M\n",
       "\n",
       "[312 rows x 3 columns]"
      ]
     },
     "execution_count": 8,
     "metadata": {},
     "output_type": "execute_result"
    }
   ],
   "source": [
    "# Average out reccomend percent for all classes professor has taught\n",
    "df_bio_rec_avg = df_bio_rec.groupby('prof', as_index=False).mean()\n",
    "\n",
    "# Add column for gender for professor\n",
    "df_bio_rec_avg['gender'] = np.where(df_bio_rec_avg['prof'].isin(women_profs), \"W\", \"M\")\n",
    "\n",
    "df_bio_rec_avg"
   ]
  },
  {
   "cell_type": "markdown",
   "metadata": {},
   "source": [
    "### Descriptive Stats"
   ]
  },
  {
   "cell_type": "code",
   "execution_count": 9,
   "metadata": {},
   "outputs": [
    {
     "data": {
      "text/plain": [
       "M    265\n",
       "W     47\n",
       "Name: gender, dtype: int64"
      ]
     },
     "execution_count": 9,
     "metadata": {},
     "output_type": "execute_result"
    }
   ],
   "source": [
    "df_bio_rec_avg['gender'].value_counts()"
   ]
  },
  {
   "cell_type": "code",
   "execution_count": 10,
   "metadata": {},
   "outputs": [
    {
     "data": {
      "image/png": "[encoded data removed]",
      "text/plain": [
       "<Figure size 432x288 with 1 Axes>"
      ]
     },
     "metadata": {
      "needs_background": "light"
     },
     "output_type": "display_data"
    }
   ],
   "source": [
    "# Bar graphs with numbers of woman professors and men professors in Bio. Sci. department\n",
    "ax_bio_count = df_bio_rec_avg['gender'].value_counts().plot.bar()\n",
    "plt.xlabel('Gender')\n",
    "plt.ylabel('# of Professors')\n",
    "ax_bio_count.set_title('Number of Biological Sciences Professors by Gender')\n",
    "f1 = plt.gcf()"
   ]
  },
  {
   "cell_type": "code",
   "execution_count": 12,
   "metadata": {},
   "outputs": [
    {
     "data": {
      "text/plain": [
       "Text(0, 0.5, 'Ratio Recommend Professor')"
      ]
     },
     "execution_count": 12,
     "metadata": {},
     "output_type": "execute_result"
    },
    {
     "data": {
      "image/png": "[encoded data removed]",
      "text/plain": [
       "<Figure size 432x288 with 1 Axes>"
      ]
     },
     "metadata": {
      "needs_background": "light"
     },
     "output_type": "display_data"
    }
   ],
   "source": [
    "# Box Plots to see range of reccomendations for professors base on gender\n",
    "ax_bio_rec_box = sns.boxplot(x=\"gender\", y=\"rec_percent\", data=df_bio_rec_avg)\n",
    "ax_bio_rec_box.set_title('Student Recommendation Rate for Biological Sciences Professors by Gender')\n",
    "plt.xlabel('Gender')\n",
    "plt.ylabel('Ratio Recommend Professor')"
   ]
  },
  {
   "cell_type": "markdown",
   "metadata": {},
   "source": [
    "### Z-test"
   ]
  },
  {
   "cell_type": "markdown",
   "metadata": {},
   "source": [
    "https://www.statisticshowto.com/probability-and-statistics/hypothesis-testing/z-test/"
   ]
  },
  {
   "cell_type": "markdown",
   "metadata": {},
   "source": [
    "##### Defining recommended: > 75"
   ]
  },
  {
   "cell_type": "code",
   "execution_count": 13,
   "metadata": {},
   "outputs": [
    {
     "data": {
      "text/plain": [
       "M    265\n",
       "W     47\n",
       "Name: gender, dtype: int64"
      ]
     },
     "execution_count": 13,
     "metadata": {},
     "output_type": "execute_result"
    }
   ],
   "source": [
    "#z-test\n",
    "df_bio_rec_avg['gender'].value_counts()"
   ]
  },
  {
   "cell_type": "code",
   "execution_count": 14,
   "metadata": {},
   "outputs": [
    {
     "name": "stdout",
     "output_type": "stream",
     "text": [
      "P1:  0.8670212765957447\n",
      "P2:  0.7863595302619693\n"
     ]
    }
   ],
   "source": [
    "num_women = 188\n",
    "num_men = 2214\n",
    "\n",
    "#num women recommended/total women\n",
    "p1 = 163/num_women\n",
    "p2 = 1741/num_men\n",
    "print(\"P1: \", p1)\n",
    "print(\"P2: \", p2)"
   ]
  },
  {
   "cell_type": "code",
   "execution_count": 15,
   "metadata": {},
   "outputs": [
    {
     "name": "stdout",
     "output_type": "stream",
     "text": [
      "P:  0.7926727726894255\n"
     ]
    }
   ],
   "source": [
    "#overall proportion\n",
    "p = (163+1741)/(188+2214)\n",
    "print(\"P: \", p)"
   ]
  },
  {
   "cell_type": "code",
   "execution_count": 16,
   "metadata": {},
   "outputs": [
    {
     "data": {
      "text/html": [
       "<div>\n",
       "<style scoped>\n",
       "    .dataframe tbody tr th:only-of-type {\n",
       "        vertical-align: middle;\n",
       "    }\n",
       "\n",
       "    .dataframe tbody tr th {\n",
       "        vertical-align: top;\n",
       "    }\n",
       "\n",
       "    .dataframe thead th {\n",
       "        text-align: right;\n",
       "    }\n",
       "</style>\n",
       "<table border=\"1\" class=\"dataframe\">\n",
       "  <thead>\n",
       "    <tr style=\"text-align: right;\">\n",
       "      <th></th>\n",
       "      <th>prof</th>\n",
       "      <th>rec_percent</th>\n",
       "      <th>gender</th>\n",
       "    </tr>\n",
       "  </thead>\n",
       "  <tbody>\n",
       "    <tr>\n",
       "      <th>0</th>\n",
       "      <td>Ackerman, Susan</td>\n",
       "      <td>0.849500</td>\n",
       "      <td>W</td>\n",
       "    </tr>\n",
       "    <tr>\n",
       "      <th>22</th>\n",
       "      <td>Bloodgood, Brenda Laurie</td>\n",
       "      <td>0.934625</td>\n",
       "      <td>W</td>\n",
       "    </tr>\n",
       "    <tr>\n",
       "      <th>35</th>\n",
       "      <td>Butler, Madeline</td>\n",
       "      <td>0.996900</td>\n",
       "      <td>W</td>\n",
       "    </tr>\n",
       "    <tr>\n",
       "      <th>41</th>\n",
       "      <td>Chilukuri, Lakshmi N</td>\n",
       "      <td>0.940222</td>\n",
       "      <td>W</td>\n",
       "    </tr>\n",
       "    <tr>\n",
       "      <th>47</th>\n",
       "      <td>Cleland, Elsa Eleanor</td>\n",
       "      <td>0.948947</td>\n",
       "      <td>W</td>\n",
       "    </tr>\n",
       "    <tr>\n",
       "      <th>57</th>\n",
       "      <td>Cooper, Kimberly Lynn</td>\n",
       "      <td>0.949889</td>\n",
       "      <td>W</td>\n",
       "    </tr>\n",
       "    <tr>\n",
       "      <th>72</th>\n",
       "      <td>Dutton, Rachel Janelle</td>\n",
       "      <td>0.953250</td>\n",
       "      <td>W</td>\n",
       "    </tr>\n",
       "    <tr>\n",
       "      <th>79</th>\n",
       "      <td>Farley, Emma Kristen</td>\n",
       "      <td>0.950000</td>\n",
       "      <td>W</td>\n",
       "    </tr>\n",
       "    <tr>\n",
       "      <th>86</th>\n",
       "      <td>French, Kathleen Ann</td>\n",
       "      <td>0.819121</td>\n",
       "      <td>W</td>\n",
       "    </tr>\n",
       "    <tr>\n",
       "      <th>94</th>\n",
       "      <td>Glasgow, Stacey Marie</td>\n",
       "      <td>0.902750</td>\n",
       "      <td>W</td>\n",
       "    </tr>\n",
       "    <tr>\n",
       "      <th>96</th>\n",
       "      <td>Golden, Susan S.</td>\n",
       "      <td>0.849905</td>\n",
       "      <td>W</td>\n",
       "    </tr>\n",
       "    <tr>\n",
       "      <th>97</th>\n",
       "      <td>Goldrath, Ananda</td>\n",
       "      <td>0.930714</td>\n",
       "      <td>W</td>\n",
       "    </tr>\n",
       "    <tr>\n",
       "      <th>107</th>\n",
       "      <td>Halpain, Shelley</td>\n",
       "      <td>0.783294</td>\n",
       "      <td>W</td>\n",
       "    </tr>\n",
       "    <tr>\n",
       "      <th>123</th>\n",
       "      <td>Huffaker, Alisa</td>\n",
       "      <td>0.971000</td>\n",
       "      <td>W</td>\n",
       "    </tr>\n",
       "    <tr>\n",
       "      <th>129</th>\n",
       "      <td>Jin, Yishi</td>\n",
       "      <td>0.914400</td>\n",
       "      <td>W</td>\n",
       "    </tr>\n",
       "    <tr>\n",
       "      <th>132</th>\n",
       "      <td>Jones, Katherine A.</td>\n",
       "      <td>1.000000</td>\n",
       "      <td>W</td>\n",
       "    </tr>\n",
       "    <tr>\n",
       "      <th>133</th>\n",
       "      <td>Juavinett, Ashley Lauren</td>\n",
       "      <td>1.000000</td>\n",
       "      <td>W</td>\n",
       "    </tr>\n",
       "    <tr>\n",
       "      <th>138</th>\n",
       "      <td>Karlseder, Jan</td>\n",
       "      <td>1.000000</td>\n",
       "      <td>W</td>\n",
       "    </tr>\n",
       "    <tr>\n",
       "      <th>140</th>\n",
       "      <td>Kiger, Amy</td>\n",
       "      <td>0.814714</td>\n",
       "      <td>W</td>\n",
       "    </tr>\n",
       "    <tr>\n",
       "      <th>146</th>\n",
       "      <td>Kurle, Carolyn M.</td>\n",
       "      <td>0.972286</td>\n",
       "      <td>W</td>\n",
       "    </tr>\n",
       "    <tr>\n",
       "      <th>152</th>\n",
       "      <td>Lauberth, Shannon Marie</td>\n",
       "      <td>0.807000</td>\n",
       "      <td>W</td>\n",
       "    </tr>\n",
       "    <tr>\n",
       "      <th>156</th>\n",
       "      <td>Leutgeb, Jill K.</td>\n",
       "      <td>0.817048</td>\n",
       "      <td>W</td>\n",
       "    </tr>\n",
       "    <tr>\n",
       "      <th>169</th>\n",
       "      <td>Markow, Therese A.</td>\n",
       "      <td>0.756429</td>\n",
       "      <td>W</td>\n",
       "    </tr>\n",
       "    <tr>\n",
       "      <th>174</th>\n",
       "      <td>McDonnell, Lisa Marie</td>\n",
       "      <td>0.930357</td>\n",
       "      <td>W</td>\n",
       "    </tr>\n",
       "    <tr>\n",
       "      <th>177</th>\n",
       "      <td>Meaders, Clara Leigh</td>\n",
       "      <td>1.000000</td>\n",
       "      <td>W</td>\n",
       "    </tr>\n",
       "    <tr>\n",
       "      <th>179</th>\n",
       "      <td>Mel, Stephanie</td>\n",
       "      <td>0.959906</td>\n",
       "      <td>W</td>\n",
       "    </tr>\n",
       "    <tr>\n",
       "      <th>194</th>\n",
       "      <td>Niwa, Maho</td>\n",
       "      <td>0.798438</td>\n",
       "      <td>W</td>\n",
       "    </tr>\n",
       "    <tr>\n",
       "      <th>197</th>\n",
       "      <td>Oegema, Karen</td>\n",
       "      <td>1.000000</td>\n",
       "      <td>W</td>\n",
       "    </tr>\n",
       "    <tr>\n",
       "      <th>199</th>\n",
       "      <td>Owens, Melinda Tsao-Ying</td>\n",
       "      <td>0.914231</td>\n",
       "      <td>W</td>\n",
       "    </tr>\n",
       "    <tr>\n",
       "      <th>206</th>\n",
       "      <td>Pasquinelli, Amy</td>\n",
       "      <td>0.946333</td>\n",
       "      <td>W</td>\n",
       "    </tr>\n",
       "    <tr>\n",
       "      <th>209</th>\n",
       "      <td>Pekkurnaz Banghart, Gulcin</td>\n",
       "      <td>0.932889</td>\n",
       "      <td>W</td>\n",
       "    </tr>\n",
       "    <tr>\n",
       "      <th>211</th>\n",
       "      <td>Petrie, Katherine Lynn</td>\n",
       "      <td>0.987500</td>\n",
       "      <td>W</td>\n",
       "    </tr>\n",
       "    <tr>\n",
       "      <th>216</th>\n",
       "      <td>Pillus, Lorraine</td>\n",
       "      <td>0.873400</td>\n",
       "      <td>W</td>\n",
       "    </tr>\n",
       "    <tr>\n",
       "      <th>220</th>\n",
       "      <td>Pogliano, Kit J.</td>\n",
       "      <td>0.996278</td>\n",
       "      <td>W</td>\n",
       "    </tr>\n",
       "    <tr>\n",
       "      <th>231</th>\n",
       "      <td>Reinagel, Pam</td>\n",
       "      <td>0.764500</td>\n",
       "      <td>W</td>\n",
       "    </tr>\n",
       "    <tr>\n",
       "      <th>265</th>\n",
       "      <td>Smith, Laurie</td>\n",
       "      <td>0.870125</td>\n",
       "      <td>W</td>\n",
       "    </tr>\n",
       "    <tr>\n",
       "      <th>270</th>\n",
       "      <td>Stockwell, Sarah R</td>\n",
       "      <td>0.939344</td>\n",
       "      <td>W</td>\n",
       "    </tr>\n",
       "    <tr>\n",
       "      <th>273</th>\n",
       "      <td>Su, Chih-Ying</td>\n",
       "      <td>0.867615</td>\n",
       "      <td>W</td>\n",
       "    </tr>\n",
       "    <tr>\n",
       "      <th>282</th>\n",
       "      <td>Tour, Ella</td>\n",
       "      <td>0.916909</td>\n",
       "      <td>W</td>\n",
       "    </tr>\n",
       "    <tr>\n",
       "      <th>286</th>\n",
       "      <td>Troemel, Emily Ruth</td>\n",
       "      <td>0.885100</td>\n",
       "      <td>W</td>\n",
       "    </tr>\n",
       "    <tr>\n",
       "      <th>291</th>\n",
       "      <td>Villa Rodriguez, Elizabeth</td>\n",
       "      <td>0.829400</td>\n",
       "      <td>W</td>\n",
       "    </tr>\n",
       "    <tr>\n",
       "      <th>298</th>\n",
       "      <td>Wienhausen, Gabriele</td>\n",
       "      <td>0.985714</td>\n",
       "      <td>W</td>\n",
       "    </tr>\n",
       "    <tr>\n",
       "      <th>305</th>\n",
       "      <td>Yelon, Deborah</td>\n",
       "      <td>0.942600</td>\n",
       "      <td>W</td>\n",
       "    </tr>\n",
       "    <tr>\n",
       "      <th>306</th>\n",
       "      <td>Zhang, Dong-Er</td>\n",
       "      <td>0.928500</td>\n",
       "      <td>W</td>\n",
       "    </tr>\n",
       "    <tr>\n",
       "      <th>310</th>\n",
       "      <td>Zuniga, Elina I</td>\n",
       "      <td>0.861467</td>\n",
       "      <td>W</td>\n",
       "    </tr>\n",
       "  </tbody>\n",
       "</table>\n",
       "</div>"
      ],
      "text/plain": [
       "                           prof  rec_percent gender\n",
       "0               Ackerman, Susan     0.849500      W\n",
       "22     Bloodgood, Brenda Laurie     0.934625      W\n",
       "35             Butler, Madeline     0.996900      W\n",
       "41         Chilukuri, Lakshmi N     0.940222      W\n",
       "47        Cleland, Elsa Eleanor     0.948947      W\n",
       "57        Cooper, Kimberly Lynn     0.949889      W\n",
       "72       Dutton, Rachel Janelle     0.953250      W\n",
       "79         Farley, Emma Kristen     0.950000      W\n",
       "86         French, Kathleen Ann     0.819121      W\n",
       "94        Glasgow, Stacey Marie     0.902750      W\n",
       "96             Golden, Susan S.     0.849905      W\n",
       "97             Goldrath, Ananda     0.930714      W\n",
       "107            Halpain, Shelley     0.783294      W\n",
       "123             Huffaker, Alisa     0.971000      W\n",
       "129                  Jin, Yishi     0.914400      W\n",
       "132         Jones, Katherine A.     1.000000      W\n",
       "133    Juavinett, Ashley Lauren     1.000000      W\n",
       "138              Karlseder, Jan     1.000000      W\n",
       "140                  Kiger, Amy     0.814714      W\n",
       "146           Kurle, Carolyn M.     0.972286      W\n",
       "152     Lauberth, Shannon Marie     0.807000      W\n",
       "156            Leutgeb, Jill K.     0.817048      W\n",
       "169          Markow, Therese A.     0.756429      W\n",
       "174       McDonnell, Lisa Marie     0.930357      W\n",
       "177        Meaders, Clara Leigh     1.000000      W\n",
       "179              Mel, Stephanie     0.959906      W\n",
       "194                  Niwa, Maho     0.798438      W\n",
       "197               Oegema, Karen     1.000000      W\n",
       "199    Owens, Melinda Tsao-Ying     0.914231      W\n",
       "206            Pasquinelli, Amy     0.946333      W\n",
       "209  Pekkurnaz Banghart, Gulcin     0.932889      W\n",
       "211      Petrie, Katherine Lynn     0.987500      W\n",
       "216            Pillus, Lorraine     0.873400      W\n",
       "220            Pogliano, Kit J.     0.996278      W\n",
       "231               Reinagel, Pam     0.764500      W\n",
       "265               Smith, Laurie     0.870125      W\n",
       "270          Stockwell, Sarah R     0.939344      W\n",
       "273               Su, Chih-Ying     0.867615      W\n",
       "282                  Tour, Ella     0.916909      W\n",
       "286         Troemel, Emily Ruth     0.885100      W\n",
       "291  Villa Rodriguez, Elizabeth     0.829400      W\n",
       "298        Wienhausen, Gabriele     0.985714      W\n",
       "305              Yelon, Deborah     0.942600      W\n",
       "306              Zhang, Dong-Er     0.928500      W\n",
       "310             Zuniga, Elina I     0.861467      W"
      ]
     },
     "execution_count": 16,
     "metadata": {},
     "output_type": "execute_result"
    }
   ],
   "source": [
    "df_bio_rec_avg.loc[(df_bio_rec_avg['rec_percent'] > 0.75) & (df_bio_rec_avg['gender'] == \"W\")] "
   ]
  },
  {
   "cell_type": "code",
   "execution_count": 17,
   "metadata": {},
   "outputs": [
    {
     "data": {
      "text/plain": [
       "2.6192304518614566"
      ]
     },
     "execution_count": 17,
     "metadata": {},
     "output_type": "execute_result"
    }
   ],
   "source": [
    "#z-test formula\n",
    "z = ((p1-p2)-0)/math.sqrt((p*(1-p))*((1/num_women)+(1/num_men)))\n",
    "z"
   ]
  },
  {
   "cell_type": "code",
   "execution_count": 18,
   "metadata": {},
   "outputs": [],
   "source": [
    "# z-score associated with a 5% alpha level / 2 is 1.96.\n",
    "# 2.619 > 1.96, reject the null hypothesis (so proportions are not the same)"
   ]
  },
  {
   "cell_type": "markdown",
   "metadata": {},
   "source": [
    "### T-test"
   ]
  },
  {
   "cell_type": "markdown",
   "metadata": {},
   "source": [
    "https://www.statisticshowto.com/probability-and-statistics/t-test/ \n",
    "\n",
    "https://www.statisticshowto.com/probability-and-statistics/t-distribution/independent-samples-t-test/"
   ]
  },
  {
   "cell_type": "markdown",
   "metadata": {},
   "source": [
    "### *Hypothesis Testing*\n",
    "\n",
    "$H_o$: There is no difference between whether a man or woman professor is reccomended\n",
    "\n",
    "$H_a$: There is a difference between whether a man or woman proffesor is reccomended"
   ]
  },
  {
   "cell_type": "code",
   "execution_count": 19,
   "metadata": {},
   "outputs": [
    {
     "data": {
      "text/plain": [
       "(   Variable      N      Mean        SD        SE  95% Conf.  Interval\n",
       " 0     Woman   47.0  0.903321  0.078561  0.011459   0.880255  0.926388\n",
       " 1       Man  265.0  0.874659  0.143724  0.008829   0.857275  0.892043\n",
       " 2  combined  312.0  0.878977  0.136211  0.007711   0.863804  0.894150,\n",
       "             Independent t-test   results\n",
       " 0  Difference (Woman - Man) =     0.0287\n",
       " 1        Degrees of freedom =   310.0000\n",
       " 2                         t =     1.3312\n",
       " 3     Two side test p value =     0.1841\n",
       " 4    Difference < 0 p value =     0.9079\n",
       " 5    Difference > 0 p value =     0.0921\n",
       " 6                 Cohen's d =     0.2107\n",
       " 7                 Hedge's g =     0.2102\n",
       " 8             Glass's delta =     0.3648\n",
       " 9               Pearson's r =     0.0754)"
      ]
     },
     "execution_count": 19,
     "metadata": {},
     "output_type": "execute_result"
    }
   ],
   "source": [
    "rp.ttest(group1= df_bio_rec_avg['rec_percent'][df_bio_rec_avg['gender'] == \"W\"], group1_name= \"Woman\",\n",
    "         group2= df_bio_rec_avg['rec_percent'][df_bio_rec_avg['gender'] == \"M\"], group2_name= \"Man\")"
   ]
  },
  {
   "cell_type": "code",
   "execution_count": null,
   "metadata": {},
   "outputs": [],
   "source": []
  }
 ],
 "metadata": {
  "kernelspec": {
   "display_name": "Python 3",
   "language": "python",
   "name": "python3"
  },
  "language_info": {
   "codemirror_mode": {
    "name": "ipython",
    "version": 3
   },
   "file_extension": ".py",
   "mimetype": "text/x-python",
   "name": "python",
   "nbconvert_exporter": "python",
   "pygments_lexer": "ipython3",
   "version": "3.7.6"
  }
 },
 "nbformat": 4,
 "nbformat_minor": 4
}
