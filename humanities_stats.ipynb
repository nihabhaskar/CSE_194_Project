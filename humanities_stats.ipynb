{
 "cells": [
  {
   "cell_type": "code",
   "execution_count": 30,
   "metadata": {},
   "outputs": [],
   "source": [
    "import pandas as pd\n",
    "import numpy as np\n",
    "import researchpy as rp\n",
    "import math\n",
    "import seaborn as sns\n",
    "import matplotlib.pyplot as plt"
   ]
  },
  {
   "cell_type": "markdown",
   "metadata": {},
   "source": [
    "### Organizing dataframe"
   ]
  },
  {
   "cell_type": "code",
   "execution_count": 31,
   "metadata": {},
   "outputs": [],
   "source": [
    "# Read in data for biological sciences department\n",
    "df_hum_rec = pd.read_csv(\"capes/humanities_capes.csv\", usecols= ['Instructor','Rcmnd Instr'])\n",
    "df_hum_grade = pd.read_csv(\"capes/humanities_capes.csv\", usecols= ['Instructor','Avg Grade Expected', 'Avg Grade Received'])\n",
    "\n",
    "# Change percent reccomend to decimal\n",
    "df_hum_rec['Rcmnd Instr'] = df_hum_rec['Rcmnd Instr'].str.rstrip('%').astype('float') / 100.0\n",
    "\n",
    "# Array with women professors\n",
    "women_profs = ['Markman, Kristina', 'Giordano, Kailey Nicole', 'Zroka, Amy Liane', 'Boettcher, Carolin', 'Thompson, Katherine Anne Merit', 'Demetriou, Denise', 'Greene, Blythe Anastasia', 'Smarr, Janet L.', 'Caciola, Nancy A', 'Solomon, Amanda Lee Albaniel','Jed, Stephanie H', 'Bialo, Caralyn Alyssa','Lampert-Weissig, Lisa', 'Stevens, Jane', 'Steiner, Jill', 'Kugler, Emily MeriNitta'] "
   ]
  },
  {
   "cell_type": "code",
   "execution_count": 32,
   "metadata": {},
   "outputs": [],
   "source": [
    "# Drop null values\n",
    "df_hum_rec = df_hum_rec.dropna()\n",
    "df_hum_grade = df_hum_grade.dropna()\n",
    "\n",
    "# Rename columns for convenience\n",
    "df_hum_rec = df_hum_rec.rename(columns={\"Instructor\":\"prof\", \"Rcmnd Instr\":\"rec_percent\", \"Gender\": \"gender\"})\n",
    "df_hum_grade = df_hum_grade.rename(columns={\"Instructor\":\"prof\",\"Avg Grade Expected\": \"expected\", \"Avg Grade Received\": \"received\"})"
   ]
  },
  {
   "cell_type": "code",
   "execution_count": 33,
   "metadata": {},
   "outputs": [
    {
     "data": {
      "text/html": [
       "<div>\n",
       "<style scoped>\n",
       "    .dataframe tbody tr th:only-of-type {\n",
       "        vertical-align: middle;\n",
       "    }\n",
       "\n",
       "    .dataframe tbody tr th {\n",
       "        vertical-align: top;\n",
       "    }\n",
       "\n",
       "    .dataframe thead th {\n",
       "        text-align: right;\n",
       "    }\n",
       "</style>\n",
       "<table border=\"1\" class=\"dataframe\">\n",
       "  <thead>\n",
       "    <tr style=\"text-align: right;\">\n",
       "      <th></th>\n",
       "      <th>prof</th>\n",
       "      <th>rec_percent</th>\n",
       "    </tr>\n",
       "  </thead>\n",
       "  <tbody>\n",
       "    <tr>\n",
       "      <th>0</th>\n",
       "      <td>Chodorow, Stanley A.</td>\n",
       "      <td>0.615</td>\n",
       "    </tr>\n",
       "    <tr>\n",
       "      <th>1</th>\n",
       "      <td>Chodorow, Stanley A.</td>\n",
       "      <td>0.625</td>\n",
       "    </tr>\n",
       "    <tr>\n",
       "      <th>2</th>\n",
       "      <td>Chodorow, Stanley A.</td>\n",
       "      <td>0.660</td>\n",
       "    </tr>\n",
       "    <tr>\n",
       "      <th>3</th>\n",
       "      <td>Markman, Kristina</td>\n",
       "      <td>1.000</td>\n",
       "    </tr>\n",
       "    <tr>\n",
       "      <th>4</th>\n",
       "      <td>Markman, Kristina</td>\n",
       "      <td>0.943</td>\n",
       "    </tr>\n",
       "  </tbody>\n",
       "</table>\n",
       "</div>"
      ],
      "text/plain": [
       "                   prof  rec_percent\n",
       "0  Chodorow, Stanley A.        0.615\n",
       "1  Chodorow, Stanley A.        0.625\n",
       "2  Chodorow, Stanley A.        0.660\n",
       "3     Markman, Kristina        1.000\n",
       "4     Markman, Kristina        0.943"
      ]
     },
     "execution_count": 33,
     "metadata": {},
     "output_type": "execute_result"
    }
   ],
   "source": [
    "df_hum_rec.head()"
   ]
  },
  {
   "cell_type": "code",
   "execution_count": 34,
   "metadata": {},
   "outputs": [
    {
     "data": {
      "text/html": [
       "<div>\n",
       "<style scoped>\n",
       "    .dataframe tbody tr th:only-of-type {\n",
       "        vertical-align: middle;\n",
       "    }\n",
       "\n",
       "    .dataframe tbody tr th {\n",
       "        vertical-align: top;\n",
       "    }\n",
       "\n",
       "    .dataframe thead th {\n",
       "        text-align: right;\n",
       "    }\n",
       "</style>\n",
       "<table border=\"1\" class=\"dataframe\">\n",
       "  <thead>\n",
       "    <tr style=\"text-align: right;\">\n",
       "      <th></th>\n",
       "      <th>prof</th>\n",
       "      <th>expected</th>\n",
       "      <th>received</th>\n",
       "    </tr>\n",
       "  </thead>\n",
       "  <tbody>\n",
       "    <tr>\n",
       "      <th>0</th>\n",
       "      <td>Chodorow, Stanley A.</td>\n",
       "      <td>B (3.07)</td>\n",
       "      <td>C+ (2.53)</td>\n",
       "    </tr>\n",
       "    <tr>\n",
       "      <th>1</th>\n",
       "      <td>Chodorow, Stanley A.</td>\n",
       "      <td>B- (2.89)</td>\n",
       "      <td>C+ (2.37)</td>\n",
       "    </tr>\n",
       "    <tr>\n",
       "      <th>2</th>\n",
       "      <td>Chodorow, Stanley A.</td>\n",
       "      <td>B- (2.76)</td>\n",
       "      <td>C+ (2.50)</td>\n",
       "    </tr>\n",
       "    <tr>\n",
       "      <th>3</th>\n",
       "      <td>Markman, Kristina</td>\n",
       "      <td>B (3.10)</td>\n",
       "      <td>B (3.24)</td>\n",
       "    </tr>\n",
       "    <tr>\n",
       "      <th>4</th>\n",
       "      <td>Markman, Kristina</td>\n",
       "      <td>B (3.03)</td>\n",
       "      <td>B- (2.90)</td>\n",
       "    </tr>\n",
       "  </tbody>\n",
       "</table>\n",
       "</div>"
      ],
      "text/plain": [
       "                   prof   expected   received\n",
       "0  Chodorow, Stanley A.   B (3.07)  C+ (2.53)\n",
       "1  Chodorow, Stanley A.  B- (2.89)  C+ (2.37)\n",
       "2  Chodorow, Stanley A.  B- (2.76)  C+ (2.50)\n",
       "3     Markman, Kristina   B (3.10)   B (3.24)\n",
       "4     Markman, Kristina   B (3.03)  B- (2.90)"
      ]
     },
     "execution_count": 34,
     "metadata": {},
     "output_type": "execute_result"
    }
   ],
   "source": [
    "df_hum_grade.head()"
   ]
  },
  {
   "cell_type": "code",
   "execution_count": 35,
   "metadata": {},
   "outputs": [],
   "source": [
    "# Split function to get grade numerical value\n",
    "def split_func(x) : \n",
    "    return(float(x.split('(')[1][:-1]))"
   ]
  },
  {
   "cell_type": "code",
   "execution_count": 36,
   "metadata": {},
   "outputs": [],
   "source": [
    "# Split expected and received in order to extract grade value as decimal\n",
    "df_hum_grade['value_e'] = df_hum_grade['expected'].apply(split_func)\n",
    "df_hum_grade['value_r'] = df_hum_grade['received'].apply(split_func)\n",
    "df_hum_grade = df_hum_grade.drop(columns=['expected', 'received'])\n",
    "df_hum_grade = df_hum_grade.rename(columns={'value_e':'expected', 'value_r':'received'})"
   ]
  },
  {
   "cell_type": "code",
   "execution_count": 37,
   "metadata": {},
   "outputs": [
    {
     "data": {
      "text/html": [
       "<div>\n",
       "<style scoped>\n",
       "    .dataframe tbody tr th:only-of-type {\n",
       "        vertical-align: middle;\n",
       "    }\n",
       "\n",
       "    .dataframe tbody tr th {\n",
       "        vertical-align: top;\n",
       "    }\n",
       "\n",
       "    .dataframe thead th {\n",
       "        text-align: right;\n",
       "    }\n",
       "</style>\n",
       "<table border=\"1\" class=\"dataframe\">\n",
       "  <thead>\n",
       "    <tr style=\"text-align: right;\">\n",
       "      <th></th>\n",
       "      <th>prof</th>\n",
       "      <th>expected</th>\n",
       "      <th>received</th>\n",
       "    </tr>\n",
       "  </thead>\n",
       "  <tbody>\n",
       "    <tr>\n",
       "      <th>0</th>\n",
       "      <td>Chodorow, Stanley A.</td>\n",
       "      <td>3.07</td>\n",
       "      <td>2.53</td>\n",
       "    </tr>\n",
       "    <tr>\n",
       "      <th>1</th>\n",
       "      <td>Chodorow, Stanley A.</td>\n",
       "      <td>2.89</td>\n",
       "      <td>2.37</td>\n",
       "    </tr>\n",
       "    <tr>\n",
       "      <th>2</th>\n",
       "      <td>Chodorow, Stanley A.</td>\n",
       "      <td>2.76</td>\n",
       "      <td>2.50</td>\n",
       "    </tr>\n",
       "    <tr>\n",
       "      <th>3</th>\n",
       "      <td>Markman, Kristina</td>\n",
       "      <td>3.10</td>\n",
       "      <td>3.24</td>\n",
       "    </tr>\n",
       "    <tr>\n",
       "      <th>4</th>\n",
       "      <td>Markman, Kristina</td>\n",
       "      <td>3.03</td>\n",
       "      <td>2.90</td>\n",
       "    </tr>\n",
       "    <tr>\n",
       "      <th>...</th>\n",
       "      <td>...</td>\n",
       "      <td>...</td>\n",
       "      <td>...</td>\n",
       "    </tr>\n",
       "    <tr>\n",
       "      <th>307</th>\n",
       "      <td>Caldwell, Michael A.</td>\n",
       "      <td>3.12</td>\n",
       "      <td>2.80</td>\n",
       "    </tr>\n",
       "    <tr>\n",
       "      <th>308</th>\n",
       "      <td>Watkins, Eric</td>\n",
       "      <td>3.14</td>\n",
       "      <td>2.68</td>\n",
       "    </tr>\n",
       "    <tr>\n",
       "      <th>309</th>\n",
       "      <td>Marino, John A.</td>\n",
       "      <td>3.05</td>\n",
       "      <td>2.91</td>\n",
       "    </tr>\n",
       "    <tr>\n",
       "      <th>310</th>\n",
       "      <td>Rutherford, Donald Paul</td>\n",
       "      <td>3.15</td>\n",
       "      <td>2.76</td>\n",
       "    </tr>\n",
       "    <tr>\n",
       "      <th>311</th>\n",
       "      <td>Steiner, Jill</td>\n",
       "      <td>3.32</td>\n",
       "      <td>2.71</td>\n",
       "    </tr>\n",
       "  </tbody>\n",
       "</table>\n",
       "<p>290 rows × 3 columns</p>\n",
       "</div>"
      ],
      "text/plain": [
       "                        prof  expected  received\n",
       "0       Chodorow, Stanley A.      3.07      2.53\n",
       "1       Chodorow, Stanley A.      2.89      2.37\n",
       "2       Chodorow, Stanley A.      2.76      2.50\n",
       "3          Markman, Kristina      3.10      3.24\n",
       "4          Markman, Kristina      3.03      2.90\n",
       "..                       ...       ...       ...\n",
       "307     Caldwell, Michael A.      3.12      2.80\n",
       "308            Watkins, Eric      3.14      2.68\n",
       "309          Marino, John A.      3.05      2.91\n",
       "310  Rutherford, Donald Paul      3.15      2.76\n",
       "311            Steiner, Jill      3.32      2.71\n",
       "\n",
       "[290 rows x 3 columns]"
      ]
     },
     "execution_count": 37,
     "metadata": {},
     "output_type": "execute_result"
    }
   ],
   "source": [
    "df_hum_grade"
   ]
  },
  {
   "cell_type": "code",
   "execution_count": 38,
   "metadata": {},
   "outputs": [],
   "source": [
    "# Average out reccomend percent for all classes professor has taught\n",
    "df_hum_rec_avg = df_hum_rec.groupby('prof', as_index=False).mean()\n",
    "\n",
    "#Average out expected & recieved grade for all classes professor has taught\n",
    "df_hum_grade = df_hum_grade.groupby('prof', as_index=False).mean()\n",
    "\n",
    "# Add column for gender for professor\n",
    "df_hum_rec_avg['gender'] = np.where(df_hum_rec_avg['prof'].isin(women_profs), \"W\", \"M\")\n",
    "df_hum_grade['gender'] = np.where(df_hum_grade['prof'].isin(women_profs), \"W\", \"M\")"
   ]
  },
  {
   "cell_type": "code",
   "execution_count": 39,
   "metadata": {},
   "outputs": [
    {
     "data": {
      "text/html": [
       "<div>\n",
       "<style scoped>\n",
       "    .dataframe tbody tr th:only-of-type {\n",
       "        vertical-align: middle;\n",
       "    }\n",
       "\n",
       "    .dataframe tbody tr th {\n",
       "        vertical-align: top;\n",
       "    }\n",
       "\n",
       "    .dataframe thead th {\n",
       "        text-align: right;\n",
       "    }\n",
       "</style>\n",
       "<table border=\"1\" class=\"dataframe\">\n",
       "  <thead>\n",
       "    <tr style=\"text-align: right;\">\n",
       "      <th></th>\n",
       "      <th>prof</th>\n",
       "      <th>rec_percent</th>\n",
       "      <th>gender</th>\n",
       "    </tr>\n",
       "  </thead>\n",
       "  <tbody>\n",
       "    <tr>\n",
       "      <th>0</th>\n",
       "      <td>Bialo, Caralyn Alyssa</td>\n",
       "      <td>1.000000</td>\n",
       "      <td>W</td>\n",
       "    </tr>\n",
       "    <tr>\n",
       "      <th>1</th>\n",
       "      <td>Boettcher, Carolin</td>\n",
       "      <td>0.889000</td>\n",
       "      <td>W</td>\n",
       "    </tr>\n",
       "    <tr>\n",
       "      <th>2</th>\n",
       "      <td>Caciola, Nancy A</td>\n",
       "      <td>0.929400</td>\n",
       "      <td>W</td>\n",
       "    </tr>\n",
       "    <tr>\n",
       "      <th>3</th>\n",
       "      <td>Caldwell, Michael A.</td>\n",
       "      <td>0.996750</td>\n",
       "      <td>M</td>\n",
       "    </tr>\n",
       "    <tr>\n",
       "      <th>4</th>\n",
       "      <td>Caldwell, Michael Alan</td>\n",
       "      <td>0.981187</td>\n",
       "      <td>M</td>\n",
       "    </tr>\n",
       "  </tbody>\n",
       "</table>\n",
       "</div>"
      ],
      "text/plain": [
       "                     prof  rec_percent gender\n",
       "0   Bialo, Caralyn Alyssa     1.000000      W\n",
       "1      Boettcher, Carolin     0.889000      W\n",
       "2        Caciola, Nancy A     0.929400      W\n",
       "3    Caldwell, Michael A.     0.996750      M\n",
       "4  Caldwell, Michael Alan     0.981187      M"
      ]
     },
     "execution_count": 39,
     "metadata": {},
     "output_type": "execute_result"
    }
   ],
   "source": [
    "df_hum_rec_avg.head()"
   ]
  },
  {
   "cell_type": "code",
   "execution_count": 40,
   "metadata": {},
   "outputs": [
    {
     "data": {
      "text/html": [
       "<div>\n",
       "<style scoped>\n",
       "    .dataframe tbody tr th:only-of-type {\n",
       "        vertical-align: middle;\n",
       "    }\n",
       "\n",
       "    .dataframe tbody tr th {\n",
       "        vertical-align: top;\n",
       "    }\n",
       "\n",
       "    .dataframe thead th {\n",
       "        text-align: right;\n",
       "    }\n",
       "</style>\n",
       "<table border=\"1\" class=\"dataframe\">\n",
       "  <thead>\n",
       "    <tr style=\"text-align: right;\">\n",
       "      <th></th>\n",
       "      <th>prof</th>\n",
       "      <th>expected</th>\n",
       "      <th>received</th>\n",
       "      <th>gender</th>\n",
       "    </tr>\n",
       "  </thead>\n",
       "  <tbody>\n",
       "    <tr>\n",
       "      <th>0</th>\n",
       "      <td>Bialo, Caralyn Alyssa</td>\n",
       "      <td>2.890000</td>\n",
       "      <td>2.760000</td>\n",
       "      <td>W</td>\n",
       "    </tr>\n",
       "    <tr>\n",
       "      <th>1</th>\n",
       "      <td>Boettcher, Carolin</td>\n",
       "      <td>3.220000</td>\n",
       "      <td>2.990000</td>\n",
       "      <td>W</td>\n",
       "    </tr>\n",
       "    <tr>\n",
       "      <th>2</th>\n",
       "      <td>Caciola, Nancy A</td>\n",
       "      <td>3.028000</td>\n",
       "      <td>2.987000</td>\n",
       "      <td>W</td>\n",
       "    </tr>\n",
       "    <tr>\n",
       "      <th>3</th>\n",
       "      <td>Caldwell, Michael A.</td>\n",
       "      <td>2.870000</td>\n",
       "      <td>2.747500</td>\n",
       "      <td>M</td>\n",
       "    </tr>\n",
       "    <tr>\n",
       "      <th>4</th>\n",
       "      <td>Caldwell, Michael Alan</td>\n",
       "      <td>3.093333</td>\n",
       "      <td>3.049333</td>\n",
       "      <td>M</td>\n",
       "    </tr>\n",
       "  </tbody>\n",
       "</table>\n",
       "</div>"
      ],
      "text/plain": [
       "                     prof  expected  received gender\n",
       "0   Bialo, Caralyn Alyssa  2.890000  2.760000      W\n",
       "1      Boettcher, Carolin  3.220000  2.990000      W\n",
       "2        Caciola, Nancy A  3.028000  2.987000      W\n",
       "3    Caldwell, Michael A.  2.870000  2.747500      M\n",
       "4  Caldwell, Michael Alan  3.093333  3.049333      M"
      ]
     },
     "execution_count": 40,
     "metadata": {},
     "output_type": "execute_result"
    }
   ],
   "source": [
    "df_hum_grade.head()"
   ]
  },
  {
   "cell_type": "markdown",
   "metadata": {},
   "source": [
    "### Descriptive Stats"
   ]
  },
  {
   "cell_type": "markdown",
   "metadata": {},
   "source": [
    "#### Hum Recommendation"
   ]
  },
  {
   "cell_type": "code",
   "execution_count": 41,
   "metadata": {},
   "outputs": [
    {
     "data": {
      "text/plain": [
       "M    28\n",
       "W    16\n",
       "Name: gender, dtype: int64"
      ]
     },
     "execution_count": 41,
     "metadata": {},
     "output_type": "execute_result"
    }
   ],
   "source": [
    "df_hum_rec_avg['gender'].value_counts()"
   ]
  },
  {
   "cell_type": "code",
   "execution_count": 57,
   "metadata": {},
   "outputs": [
    {
     "data": {
      "image/png": "[encoded data removed]",
      "text/plain": [
       "<Figure size 432x288 with 1 Axes>"
      ]
     },
     "metadata": {
      "needs_background": "light"
     },
     "output_type": "display_data"
    }
   ],
   "source": [
    "# Bar graphs with numbers of woman professors and men professors in Humanities department\n",
    "ax_bio_count = df_hum_rec_avg['gender'].value_counts().plot.bar()\n",
    "plt.xlabel('Gender')\n",
    "plt.ylabel('# of Professors')\n",
    "ax_bio_count.set_title('Number of Humanities Professors by Gender')\n",
    "f1 = plt.gcf()"
   ]
  },
  {
   "cell_type": "code",
   "execution_count": 58,
   "metadata": {},
   "outputs": [
    {
     "data": {
      "text/plain": [
       "Text(0, 0.5, 'Ratio Recommend Professor')"
      ]
     },
     "execution_count": 58,
     "metadata": {},
     "output_type": "execute_result"
    },
    {
     "data": {
      "image/png": "[encoded data removed]",
      "text/plain": [
       "<Figure size 432x288 with 1 Axes>"
      ]
     },
     "metadata": {
      "needs_background": "light"
     },
     "output_type": "display_data"
    }
   ],
   "source": [
    "# Box Plots to see range of reccomendations for professors base on gender\n",
    "ax_bio_rec_box = sns.boxplot(x=\"gender\", y=\"rec_percent\", data=df_hum_rec_avg)\n",
    "ax_bio_rec_box.set_title('Student Recommendation Rate for Humanities Professors by Gender')\n",
    "plt.xlabel('Gender')\n",
    "plt.ylabel('Ratio Recommend Professor')"
   ]
  },
  {
   "cell_type": "markdown",
   "metadata": {},
   "source": [
    "#### Expected vs Received Grade"
   ]
  },
  {
   "cell_type": "code",
   "execution_count": 44,
   "metadata": {},
   "outputs": [
    {
     "data": {
      "text/plain": [
       "Text(0, 0.5, 'Expected Grade for Professor')"
      ]
     },
     "execution_count": 44,
     "metadata": {},
     "output_type": "execute_result"
    },
    {
     "data": {
      "image/png": "[encoded data removed]",
      "text/plain": [
       "<Figure size 432x288 with 1 Axes>"
      ]
     },
     "metadata": {
      "needs_background": "light"
     },
     "output_type": "display_data"
    }
   ],
   "source": [
    "# Box Plots to see range of expected grades for professors base on gender\n",
    "ax_hum_e_box = sns.boxplot(x=\"gender\", y=\"expected\", data=df_hum_grade)\n",
    "ax_hum_e_box.set_title('Student Expected Grade for Humanities Professors by Gender')\n",
    "plt.xlabel('Gender')\n",
    "plt.ylabel('Expected Grade for Professor')"
   ]
  },
  {
   "cell_type": "code",
   "execution_count": 45,
   "metadata": {
    "scrolled": true
   },
   "outputs": [
    {
     "data": {
      "text/plain": [
       "Text(0, 0.5, 'Received Grade for Professor')"
      ]
     },
     "execution_count": 45,
     "metadata": {},
     "output_type": "execute_result"
    },
    {
     "data": {
      "image/png": "[encoded data removed]",
      "text/plain": [
       "<Figure size 432x288 with 1 Axes>"
      ]
     },
     "metadata": {
      "needs_background": "light"
     },
     "output_type": "display_data"
    }
   ],
   "source": [
    "# Box Plots to see range of received grades for professors base on gender\n",
    "ax_hum_r_box = sns.boxplot(x=\"gender\", y=\"received\", data=df_hum_grade)\n",
    "ax_hum_r_box.set_title('Student Received Grade for Humanities Professors by Gender')\n",
    "plt.xlabel('Gender')\n",
    "plt.ylabel('Received Grade for Professor')"
   ]
  },
  {
   "cell_type": "code",
   "execution_count": 54,
   "metadata": {},
   "outputs": [],
   "source": [
    "# Percent difference between expected - received \n",
    "df_hum_grade['per_dif'] = ((df_hum_grade['expected']-df_hum_grade['received'])/df_hum_grade['expected'])*100"
   ]
  },
  {
   "cell_type": "code",
   "execution_count": 55,
   "metadata": {},
   "outputs": [
    {
     "data": {
      "text/plain": [
       "Text(0, 0.5, 'Percent Difference')"
      ]
     },
     "execution_count": 55,
     "metadata": {},
     "output_type": "execute_result"
    },
    {
     "data": {
      "image/png": "[encoded data removed]",
      "text/plain": [
       "<Figure size 432x288 with 1 Axes>"
      ]
     },
     "metadata": {
      "needs_background": "light"
     },
     "output_type": "display_data"
    }
   ],
   "source": [
    "# Box Plots to see range of received grades for professors base on gender\n",
    "ax_hum_dif_box = sns.boxplot(x=\"gender\", y='per_dif', data=df_hum_grade)\n",
    "ax_hum_dif_box.set_title('Expected-Recieved Percent Difference by Gender')\n",
    "plt.xlabel('Gender')\n",
    "plt.ylabel('Percent Difference')"
   ]
  },
  {
   "cell_type": "markdown",
   "metadata": {},
   "source": [
    "### Z-test"
   ]
  },
  {
   "cell_type": "markdown",
   "metadata": {},
   "source": [
    "https://www.statisticshowto.com/probability-and-statistics/hypothesis-testing/z-test/"
   ]
  },
  {
   "cell_type": "markdown",
   "metadata": {},
   "source": [
    "##### Defining recommended: > 75"
   ]
  },
  {
   "cell_type": "code",
   "execution_count": 46,
   "metadata": {},
   "outputs": [
    {
     "data": {
      "text/plain": [
       "M    28\n",
       "W    16\n",
       "Name: gender, dtype: int64"
      ]
     },
     "execution_count": 46,
     "metadata": {},
     "output_type": "execute_result"
    }
   ],
   "source": [
    "#z-test\n",
    "df_hum_rec_avg['gender'].value_counts()"
   ]
  },
  {
   "cell_type": "code",
   "execution_count": 47,
   "metadata": {},
   "outputs": [
    {
     "name": "stdout",
     "output_type": "stream",
     "text": [
      "P1:  0.8670212765957447\n",
      "P2:  0.7863595302619693\n"
     ]
    }
   ],
   "source": [
    "num_women = 188\n",
    "num_men = 2214\n",
    "\n",
    "#num women recommended/total women\n",
    "p1 = 163/num_women\n",
    "p2 = 1741/num_men\n",
    "print(\"P1: \", p1)\n",
    "print(\"P2: \", p2)"
   ]
  },
  {
   "cell_type": "code",
   "execution_count": 48,
   "metadata": {},
   "outputs": [
    {
     "name": "stdout",
     "output_type": "stream",
     "text": [
      "P:  0.7926727726894255\n"
     ]
    }
   ],
   "source": [
    "#overall proportion\n",
    "p = (163+1741)/(188+2214)\n",
    "print(\"P: \", p)"
   ]
  },
  {
   "cell_type": "code",
   "execution_count": 49,
   "metadata": {},
   "outputs": [
    {
     "data": {
      "text/html": [
       "<div>\n",
       "<style scoped>\n",
       "    .dataframe tbody tr th:only-of-type {\n",
       "        vertical-align: middle;\n",
       "    }\n",
       "\n",
       "    .dataframe tbody tr th {\n",
       "        vertical-align: top;\n",
       "    }\n",
       "\n",
       "    .dataframe thead th {\n",
       "        text-align: right;\n",
       "    }\n",
       "</style>\n",
       "<table border=\"1\" class=\"dataframe\">\n",
       "  <thead>\n",
       "    <tr style=\"text-align: right;\">\n",
       "      <th></th>\n",
       "      <th>prof</th>\n",
       "      <th>rec_percent</th>\n",
       "      <th>gender</th>\n",
       "    </tr>\n",
       "  </thead>\n",
       "  <tbody>\n",
       "    <tr>\n",
       "      <th>0</th>\n",
       "      <td>Bialo, Caralyn Alyssa</td>\n",
       "      <td>1.000000</td>\n",
       "      <td>W</td>\n",
       "    </tr>\n",
       "    <tr>\n",
       "      <th>1</th>\n",
       "      <td>Boettcher, Carolin</td>\n",
       "      <td>0.889000</td>\n",
       "      <td>W</td>\n",
       "    </tr>\n",
       "    <tr>\n",
       "      <th>2</th>\n",
       "      <td>Caciola, Nancy A</td>\n",
       "      <td>0.929400</td>\n",
       "      <td>W</td>\n",
       "    </tr>\n",
       "    <tr>\n",
       "      <th>10</th>\n",
       "      <td>Giordano, Kailey Nicole</td>\n",
       "      <td>0.982286</td>\n",
       "      <td>W</td>\n",
       "    </tr>\n",
       "    <tr>\n",
       "      <th>12</th>\n",
       "      <td>Greene, Blythe Anastasia</td>\n",
       "      <td>0.843000</td>\n",
       "      <td>W</td>\n",
       "    </tr>\n",
       "    <tr>\n",
       "      <th>15</th>\n",
       "      <td>Jed, Stephanie H</td>\n",
       "      <td>1.000000</td>\n",
       "      <td>W</td>\n",
       "    </tr>\n",
       "    <tr>\n",
       "      <th>26</th>\n",
       "      <td>Markman, Kristina</td>\n",
       "      <td>0.950917</td>\n",
       "      <td>W</td>\n",
       "    </tr>\n",
       "    <tr>\n",
       "      <th>33</th>\n",
       "      <td>Solomon, Amanda Lee Albaniel</td>\n",
       "      <td>0.986286</td>\n",
       "      <td>W</td>\n",
       "    </tr>\n",
       "    <tr>\n",
       "      <th>34</th>\n",
       "      <td>Steiner, Jill</td>\n",
       "      <td>1.000000</td>\n",
       "      <td>W</td>\n",
       "    </tr>\n",
       "    <tr>\n",
       "      <th>36</th>\n",
       "      <td>Thompson, Katherine Anne Merit</td>\n",
       "      <td>0.985500</td>\n",
       "      <td>W</td>\n",
       "    </tr>\n",
       "    <tr>\n",
       "      <th>42</th>\n",
       "      <td>Zroka, Amy Liane</td>\n",
       "      <td>0.842429</td>\n",
       "      <td>W</td>\n",
       "    </tr>\n",
       "  </tbody>\n",
       "</table>\n",
       "</div>"
      ],
      "text/plain": [
       "                              prof  rec_percent gender\n",
       "0            Bialo, Caralyn Alyssa     1.000000      W\n",
       "1               Boettcher, Carolin     0.889000      W\n",
       "2                 Caciola, Nancy A     0.929400      W\n",
       "10         Giordano, Kailey Nicole     0.982286      W\n",
       "12        Greene, Blythe Anastasia     0.843000      W\n",
       "15                Jed, Stephanie H     1.000000      W\n",
       "26               Markman, Kristina     0.950917      W\n",
       "33    Solomon, Amanda Lee Albaniel     0.986286      W\n",
       "34                   Steiner, Jill     1.000000      W\n",
       "36  Thompson, Katherine Anne Merit     0.985500      W\n",
       "42                Zroka, Amy Liane     0.842429      W"
      ]
     },
     "execution_count": 49,
     "metadata": {},
     "output_type": "execute_result"
    }
   ],
   "source": [
    "df_hum_rec_avg.loc[(df_hum_rec_avg['rec_percent'] > 0.75) & (df_hum_rec_avg['gender'] == \"W\")] "
   ]
  },
  {
   "cell_type": "code",
   "execution_count": 50,
   "metadata": {},
   "outputs": [
    {
     "data": {
      "text/plain": [
       "2.6192304518614566"
      ]
     },
     "execution_count": 50,
     "metadata": {},
     "output_type": "execute_result"
    }
   ],
   "source": [
    "#z-test formula\n",
    "z = ((p1-p2)-0)/math.sqrt((p*(1-p))*((1/num_women)+(1/num_men)))\n",
    "z"
   ]
  },
  {
   "cell_type": "code",
   "execution_count": 51,
   "metadata": {},
   "outputs": [],
   "source": [
    "# z-score associated with a 5% alpha level / 2 is 1.96.\n",
    "# 2.619 > 1.96, reject the null hypothesis (so proportions are not the same)"
   ]
  },
  {
   "cell_type": "markdown",
   "metadata": {},
   "source": [
    "### T-test"
   ]
  },
  {
   "cell_type": "markdown",
   "metadata": {},
   "source": [
    "https://www.statisticshowto.com/probability-and-statistics/t-test/ \n",
    "\n",
    "https://www.statisticshowto.com/probability-and-statistics/t-distribution/independent-samples-t-test/"
   ]
  },
  {
   "cell_type": "markdown",
   "metadata": {},
   "source": [
    "### *Hypothesis Testing*\n",
    "\n",
    "#### Recommendation Percent Rates\n",
    "$H_o$: There is no difference between the recommendation rates of men and women professors\n",
    "\n",
    "$H_a$: There is a difference between the recommendation rates of men and women professors"
   ]
  },
  {
   "cell_type": "code",
   "execution_count": 52,
   "metadata": {},
   "outputs": [
    {
     "data": {
      "text/plain": [
       "(   Variable     N      Mean        SD        SE  95% Conf.  Interval\n",
       " 0     Woman  16.0  0.868739  0.130238  0.032560   0.799339  0.938138\n",
       " 1       Man  28.0  0.915534  0.110299  0.020845   0.872765  0.958304\n",
       " 2  combined  44.0  0.898518  0.118636  0.017885   0.862449  0.934586,\n",
       "             Independent t-test  results\n",
       " 0  Difference (Woman - Man) =   -0.0468\n",
       " 1        Degrees of freedom =   42.0000\n",
       " 2                         t =   -1.2675\n",
       " 3     Two side test p value =    0.2120\n",
       " 4    Difference < 0 p value =    0.1060\n",
       " 5    Difference > 0 p value =    0.8940\n",
       " 6                 Cohen's d =   -0.3972\n",
       " 7                 Hedge's g =   -0.3901\n",
       " 8             Glass's delta =   -0.3593\n",
       " 9               Pearson's r =    0.1919)"
      ]
     },
     "execution_count": 52,
     "metadata": {},
     "output_type": "execute_result"
    }
   ],
   "source": [
    "rp.ttest(group1= df_hum_rec_avg['rec_percent'][df_hum_rec_avg['gender'] == \"W\"], group1_name= \"Woman\",\n",
    "         group2= df_hum_rec_avg['rec_percent'][df_hum_rec_avg['gender'] == \"M\"], group2_name= \"Man\")"
   ]
  },
  {
   "cell_type": "markdown",
   "metadata": {},
   "source": [
    "Since we calculated the difference between women and men and the t-value was negative, the average  is greater for women professors than for men professors.\n",
    "\n",
    "Based on the degrees of freedom the t-value would need to be less than -1.68 to be statistically significant.\n",
    "\n",
    "Based on the results from the t-test, the t-value is at -1.2675 > -1.68, so the difference in recomended percents for men professors and women professors is not statistically significant at the 5% level."
   ]
  },
  {
   "cell_type": "markdown",
   "metadata": {},
   "source": [
    "### *Hypothesis Testing*\n",
    "\n",
    "#### 'Expected - Received' Percent Value\n",
    "$H_o$: There is no percent difference 'Expected - Received' between men and women professors\n",
    "\n",
    "$H_a$: There is a percent difference 'Expected - Received' between men and women professors"
   ]
  },
  {
   "cell_type": "code",
   "execution_count": 56,
   "metadata": {
    "scrolled": true
   },
   "outputs": [
    {
     "data": {
      "text/plain": [
       "(   Variable     N      Mean        SD        SE  95% Conf.  Interval\n",
       " 0     Woman  15.0  3.837746  4.921815  1.270807   1.112135  6.563356\n",
       " 1       Man  28.0  2.564626  3.728534  0.704627   1.118852  4.010401\n",
       " 2  combined  43.0  3.008738  4.169972  0.635915   1.725410  4.292066,\n",
       "             Independent t-test  results\n",
       " 0  Difference (Woman - Man) =    1.2731\n",
       " 1        Degrees of freedom =   41.0000\n",
       " 2                         t =    0.9531\n",
       " 3     Two side test p value =    0.3461\n",
       " 4    Difference < 0 p value =    0.8269\n",
       " 5    Difference > 0 p value =    0.1731\n",
       " 6                 Cohen's d =    0.3050\n",
       " 7                 Hedge's g =    0.2994\n",
       " 8             Glass's delta =    0.2587\n",
       " 9               Pearson's r =    0.1472)"
      ]
     },
     "execution_count": 56,
     "metadata": {},
     "output_type": "execute_result"
    }
   ],
   "source": [
    "rp.ttest(group1= df_hum_grade['per_dif'][df_hum_grade['gender'] == \"W\"], group1_name= \"Woman\",\n",
    "         group2= df_hum_grade['per_dif'][df_hum_grade['gender'] == \"M\"], group2_name= \"Man\")"
   ]
  },
  {
   "cell_type": "markdown",
   "metadata": {},
   "source": [
    "Since we calculated the difference between women and men and the t-value was positive, the average 'expected - received' percent value is greater for women professors than for men professors.\n",
    "\n",
    "Based on the degrees of freedom the t-value would need to be greater than 1.68 to be statistically significant.\n",
    "\n",
    "However, based on the results from the t-test, the t-value is at 0.9531 < 1.68, so the difference in 'expected - received' percent value for men professors and women professors is not statistically significant at the 5% level."
   ]
  },
  {
   "cell_type": "markdown",
   "metadata": {},
   "source": [
    "## Contingency Table"
   ]
  },
  {
   "cell_type": "code",
   "execution_count": 24,
   "metadata": {},
   "outputs": [],
   "source": [
    "import numpy as np\n",
    "import pandas as pd\n",
    "import matplotlib as plt"
   ]
  },
  {
   "cell_type": "code",
   "execution_count": 25,
   "metadata": {},
   "outputs": [],
   "source": [
    "df_hum_rec_avg['rec'] = np.where(df_hum_rec_avg['rec_percent'] > 0.80, \"Y\", \"N\")"
   ]
  },
  {
   "cell_type": "code",
   "execution_count": 26,
   "metadata": {},
   "outputs": [
    {
     "data": {
      "text/html": [
       "<div>\n",
       "<style scoped>\n",
       "    .dataframe tbody tr th:only-of-type {\n",
       "        vertical-align: middle;\n",
       "    }\n",
       "\n",
       "    .dataframe tbody tr th {\n",
       "        vertical-align: top;\n",
       "    }\n",
       "\n",
       "    .dataframe thead th {\n",
       "        text-align: right;\n",
       "    }\n",
       "</style>\n",
       "<table border=\"1\" class=\"dataframe\">\n",
       "  <thead>\n",
       "    <tr style=\"text-align: right;\">\n",
       "      <th></th>\n",
       "      <th>prof</th>\n",
       "      <th>rec_percent</th>\n",
       "      <th>gender</th>\n",
       "      <th>rec</th>\n",
       "    </tr>\n",
       "  </thead>\n",
       "  <tbody>\n",
       "    <tr>\n",
       "      <th>0</th>\n",
       "      <td>Bialo, Caralyn Alyssa</td>\n",
       "      <td>1.000000</td>\n",
       "      <td>W</td>\n",
       "      <td>Y</td>\n",
       "    </tr>\n",
       "    <tr>\n",
       "      <th>1</th>\n",
       "      <td>Boettcher, Carolin</td>\n",
       "      <td>0.889000</td>\n",
       "      <td>W</td>\n",
       "      <td>Y</td>\n",
       "    </tr>\n",
       "    <tr>\n",
       "      <th>2</th>\n",
       "      <td>Caciola, Nancy A</td>\n",
       "      <td>0.929400</td>\n",
       "      <td>W</td>\n",
       "      <td>Y</td>\n",
       "    </tr>\n",
       "    <tr>\n",
       "      <th>3</th>\n",
       "      <td>Caldwell, Michael A.</td>\n",
       "      <td>0.996750</td>\n",
       "      <td>M</td>\n",
       "      <td>Y</td>\n",
       "    </tr>\n",
       "    <tr>\n",
       "      <th>4</th>\n",
       "      <td>Caldwell, Michael Alan</td>\n",
       "      <td>0.981187</td>\n",
       "      <td>M</td>\n",
       "      <td>Y</td>\n",
       "    </tr>\n",
       "  </tbody>\n",
       "</table>\n",
       "</div>"
      ],
      "text/plain": [
       "                     prof  rec_percent gender rec\n",
       "0   Bialo, Caralyn Alyssa     1.000000      W   Y\n",
       "1      Boettcher, Carolin     0.889000      W   Y\n",
       "2        Caciola, Nancy A     0.929400      W   Y\n",
       "3    Caldwell, Michael A.     0.996750      M   Y\n",
       "4  Caldwell, Michael Alan     0.981187      M   Y"
      ]
     },
     "execution_count": 26,
     "metadata": {},
     "output_type": "execute_result"
    }
   ],
   "source": [
    "df_hum_rec_avg.head()"
   ]
  },
  {
   "cell_type": "code",
   "execution_count": 27,
   "metadata": {},
   "outputs": [
    {
     "name": "stdout",
     "output_type": "stream",
     "text": [
      "rec     N   Y\n",
      "gender       \n",
      "M       2  26\n",
      "W       5  11\n"
     ]
    }
   ],
   "source": [
    "hum_table = pd.crosstab(df_hum_rec_avg['gender'],\n",
    "                            df_hum_rec_avg['rec'], \n",
    "                               margins = False)\n",
    "print(hum_table)"
   ]
  }
 ],
 "metadata": {
  "kernelspec": {
   "display_name": "Python 3",
   "language": "python",
   "name": "python3"
  },
  "language_info": {
   "codemirror_mode": {
    "name": "ipython",
    "version": 3
   },
   "file_extension": ".py",
   "mimetype": "text/x-python",
   "name": "python",
   "nbconvert_exporter": "python",
   "pygments_lexer": "ipython3",
   "version": "3.7.6"
  }
 },
 "nbformat": 4,
 "nbformat_minor": 4
}
