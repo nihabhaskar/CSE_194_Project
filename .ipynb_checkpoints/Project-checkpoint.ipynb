{
 "cells": [
  {
   "cell_type": "markdown",
   "metadata": {},
   "source": [
    "# Table of Contents\n",
    "- [Overview](#overview)\n",
    "- [Names](#names)\n",
    "- [Research Question](#research_question)\n",
    "- [Background](#background)\n",
    "- [Hypothesis](#hypothesis)\n",
    "- [Datasets](#datasets)\n",
    "- [Data Cleaning](#data_cleaning)\n",
    "- [Data Analysis](#data_analysis)\n",
    "- [Conclusion](#conclusion)"
   ]
  },
  {
   "cell_type": "markdown",
   "metadata": {},
   "source": [
    "<a id='overview'></a>\n",
    "# Overview \n",
    "In the book Invisible Women, the author Caroline Criado Perez discusses that “decades of research [...] show that teaching evaluation forms are worse than useless at actually evaluating teaching and are in face ‘biased against female instructors by an amount that is large and statistically significant”’ Based on this claim we plan to research student evaluations on CAPEs at UC San Diego and see if we are able to identify any biases in student expectations of women vs men professors. We are focusing the research on the variables: student average grade expected, student average grade received,  and whether the student would recommend the professor. We conducted our analysis using [insert stats tests here] in order to determine if there is a correlation between student average grade expected and received and whether the student would recommend the professor for men and women. Upon analysis,..."
   ]
  },
  {
   "cell_type": "markdown",
   "metadata": {},
   "source": [
    "<a id='names'></a>\n",
    "# Names\n",
    "* Niharika Bhaskar\n",
    "* Nicole Martindale"
   ]
  },
  {
   "cell_type": "markdown",
   "metadata": {},
   "source": [
    "<a id='research_question'></a>\n",
    "# Research Question\n",
    "### <span style=\"color:DarkCyan\">To what extent does a professor being a women and a profesor being a man change how students reccomend them and how students percieve the grade they expect to recieve?</span>"
   ]
  },
  {
   "cell_type": "markdown",
   "metadata": {},
   "source": [
    "<a id='background'></a>\n",
    "# Background\n",
    "* Some questions to answer:\n",
    "* Why is it of interest to us\n",
    "#### What background information led you to your hypothesis.\n",
    "\n",
    "In the book Invisible Women, the author Caroline Criado Perez discusses how student expectations of women professors can create hurdles that may not be experienced if that individual was a man. Perez explains that “students are also more likely to request extensions, grade boosts, and rule-bending of female academics” (Perez 97). This expectation that women professors will be more lenient may translate into what grade students expect in the class. If this expectation is not met students may be more upset. Furthermore, in the book Perez cites that “an analysis of 14 million reviews on the website RateMyProfessors.com found that female professors are more likely to be ‘mean, ‘harsh, ‘unfair’, ‘strict’, and ‘annoying’”(Perez 97). There seems to be evidence that students do not evaluate men professors and women professors at the same standard. Consequently, there is statistically significant evidence that teaching evaluations are biased against women. In addition, there is evidence that there are significantly fewer women computer science professors and STEM departments as a whole.\n",
    "\n",
    "#### Why is this important?\n",
    "While the project may not be able to fix any explicit biases that may be present in students, identifying and being aware of any implicit biases for individuals may be beneficial. This research project may be able to suggest that there may be biases against women professors across different departments, including various STEM departments and ultimately the Computer Science department. This will hopefully motivate students to be more aware of their own actions when it comes to evaluating professors in the future. \n",
    "\n",
    "Ultimately, I think the project will also suggest that students and anyone referring to CAPES and other evaluation tools should not jump to conclusions about the results of those evaluations, as there may be hidden biases against women baked into the results of those evaluations as a result of explicit and implicit biases. Ultimately, it is essential to evaluate possible inequities in evaluations to guarantee an equitable work environment for women in academia.\n",
    "\n",
    "\n",
    "* Has there been research done on this topic?"
   ]
  },
  {
   "cell_type": "markdown",
   "metadata": {},
   "source": [
    "<a id='hypothesis'></a>\n",
    "# Hypothesis\n",
    "* 4-5 sentences w/ our hypothesis and why we came to this reasoning"
   ]
  },
  {
   "cell_type": "markdown",
   "metadata": {},
   "source": [
    "<a id='datasets'></a>\n",
    "# Dataset(s)\n",
    "* Describe the datasets we are using \n",
    "* Name:\n",
    "* Descroption:\n",
    "* Source:\n",
    "* Observations ( like variables and description of the individual data pieces)"
   ]
  },
  {
   "cell_type": "markdown",
   "metadata": {},
   "source": [
    "<a id='data_cleaning'></a>\n",
    "# Data Cleaning\n",
    "* Code for cleaning the data vibes"
   ]
  },
  {
   "cell_type": "markdown",
   "metadata": {},
   "source": [
    "<a id='data_analysis'></a>\n",
    "# Data Analysis\n",
    "* stats test of some sort and you know results from that tables and graphs and all that good stuff"
   ]
  },
  {
   "cell_type": "markdown",
   "metadata": {},
   "source": [
    "<a id='conclusion'></a>\n",
    "# Conclusion"
   ]
  },
  {
   "cell_type": "code",
   "execution_count": null,
   "metadata": {},
   "outputs": [],
   "source": []
  }
 ],
 "metadata": {
  "kernelspec": {
   "display_name": "Python 3 (clean)",
   "language": "python",
   "name": "python3_clean"
  },
  "language_info": {
   "codemirror_mode": {
    "name": "ipython",
    "version": 3
   },
   "file_extension": ".py",
   "mimetype": "text/x-python",
   "name": "python",
   "nbconvert_exporter": "python",
   "pygments_lexer": "ipython3",
   "version": "3.7.6"
  }
 },
 "nbformat": 4,
 "nbformat_minor": 4
}
